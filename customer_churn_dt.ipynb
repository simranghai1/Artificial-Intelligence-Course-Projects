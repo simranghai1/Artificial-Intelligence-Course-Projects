{
  "cells": [
    {
      "cell_type": "markdown",
      "metadata": {
        "id": "oKwRd4WUrhC7"
      },
      "source": [
        "# Customer Churn Prediction Lab: Decision Tree Tuning\n",
        "\n",
        "## Business Scenario\n",
        "\n",
        "You work as a data scientist for a telecommunications company that is concerned about customer churn. The company has collected data on various customer attributes and behaviors, including demographics, account information, and service usage patterns.\n",
        "\n",
        "Your task is to build a decision tree model that can predict whether a customer is likely to churn (cancel their service) in the near future. This will allow the company to proactively reach out to at-risk customers with retention offers.\n",
        "\n",
        "### Recall as a Critical Metric for Churn Prediction\n",
        "In the context of customer churn prediction, recall is particularly important for business reasons that directly affect the bottom line. Recall measures the proportion of actual churners that your model correctly identifies.\n",
        "\n",
        "Why Recall Matters More Than Precision for Churn:\n",
        "\n",
        "When predicting customer churn, the cost of a false negative (missing a churning customer) is typically much higher than the cost of a false positive (incorrectly flagging a loyal customer as at-risk).\n",
        "\n",
        "The business cost of missing a churner (false negative):\n",
        "- Complete loss of future revenue from that customer\n",
        "- Increased customer acquisition costs to replace them\n",
        "- Potential negative word-of-mouth effects\n",
        "- Lost opportunity to address their concerns and retain them\n",
        "\n",
        "The business cost of incorrectly flagging a non-churner (false positive):\n",
        "- Resources spent on unnecessary retention efforts (discounts, outreach)\n",
        "- Minor potential annoyance to the satisfied customer\n",
        "\n",
        "In most subscription businesses, acquiring a new customer costs 5-25 times more than retaining an existing one. This asymmetric cost structure makes missing a churning customer (low recall) much more expensive than incorrectly identifying a loyal customer as at-risk.\n",
        "\n",
        "**You are expected to use recall to score and evaluate your models.**\n",
        "\n",
        "## The Process\n",
        "\n",
        "By the end of this lab, you will have:\n",
        "1. Established a baseline decision tree model and evaluated its performance\n",
        "2. Performed hyperparameter tuning using randomized search\n",
        "3. Refined the model using grid search\n",
        "4. Evaluated final model performance\n",
        "\n"
      ]
    },
    {
      "cell_type": "markdown",
      "metadata": {
        "id": "b5uDZLhzrhC_"
      },
      "source": [
        "## Part 0: Setup - Import Libraries and Load Data\n",
        "\n",
        "First, let's import all the necessary libraries and load our dataset."
      ]
    },
    {
      "cell_type": "code",
      "execution_count": 1,
      "metadata": {
        "id": "o9zwKtmyrhC_"
      },
      "outputs": [],
      "source": [
        "# CodeGrade step0\n",
        "# Import required libraries\n",
        "import pandas as pd\n",
        "import numpy as np\n",
        "\n",
        "import matplotlib.pyplot as plt\n",
        "from sklearn.model_selection import train_test_split, cross_val_score\n",
        "from sklearn.tree import DecisionTreeClassifier\n",
        "from sklearn.model_selection import RandomizedSearchCV, GridSearchCV\n",
        "from sklearn.metrics import confusion_matrix, classification_report, recall_score, ConfusionMatrixDisplay\n",
        "\n",
        "# Set random seed for reproducibility\n",
        "np.random.seed(42)"
      ]
    },
    {
      "cell_type": "markdown",
      "metadata": {
        "id": "h16YItbQrhDB"
      },
      "source": [
        "### Loading and exploring the dataset\n",
        "\n",
        "The dataset contains customer information and a target variable 'churn' indicating whether they cancelled their service (1) or not (0)."
      ]
    },
    {
      "cell_type": "code",
      "execution_count": 3,
      "metadata": {
        "id": "Wj-6g9pcrhDB"
      },
      "outputs": [],
      "source": [
        "# CodeGrade step0\n",
        "# Run this cell without changes\n",
        "# Load the dataset\n",
        "df_telco = pd.read_csv('telecomchurn.csv')"
      ]
    },
    {
      "cell_type": "code",
      "execution_count": 4,
      "metadata": {
        "id": "tyuYEvWTrhDB"
      },
      "outputs": [
        {
          "name": "stdout",
          "output_type": "stream",
          "text": [
            "<class 'pandas.core.frame.DataFrame'>\n",
            "RangeIndex: 20000 entries, 0 to 19999\n",
            "Data columns (total 14 columns):\n",
            " #   Column              Non-Null Count  Dtype  \n",
            "---  ------              --------------  -----  \n",
            " 0   account_age_months  20000 non-null  int64  \n",
            " 1   monthly_charges     20000 non-null  float64\n",
            " 2   subscription_tier   20000 non-null  int64  \n",
            " 3   support_calls       20000 non-null  int64  \n",
            " 4   reported_issues     20000 non-null  int64  \n",
            " 5   inactive_days       20000 non-null  int64  \n",
            " 6   usage_decline       20000 non-null  float64\n",
            " 7   competitor_offer    20000 non-null  int64  \n",
            " 8   promotion_response  20000 non-null  int64  \n",
            " 9   contract_type       20000 non-null  int64  \n",
            " 10  payment_method      20000 non-null  int64  \n",
            " 11  online_security     20000 non-null  int64  \n",
            " 12  tech_support        20000 non-null  int64  \n",
            " 13  churn               20000 non-null  int64  \n",
            "dtypes: float64(2), int64(12)\n",
            "memory usage: 2.1 MB\n"
          ]
        }
      ],
      "source": [
        "# Run this cell without changes\n",
        "# Display basic information about the dataset\n",
        "df_telco.info()"
      ]
    },
    {
      "cell_type": "code",
      "execution_count": 5,
      "metadata": {
        "id": "rRK2ZjR7rhDC"
      },
      "outputs": [
        {
          "data": {
            "text/html": [
              "<div>\n",
              "<style scoped>\n",
              "    .dataframe tbody tr th:only-of-type {\n",
              "        vertical-align: middle;\n",
              "    }\n",
              "\n",
              "    .dataframe tbody tr th {\n",
              "        vertical-align: top;\n",
              "    }\n",
              "\n",
              "    .dataframe thead th {\n",
              "        text-align: right;\n",
              "    }\n",
              "</style>\n",
              "<table border=\"1\" class=\"dataframe\">\n",
              "  <thead>\n",
              "    <tr style=\"text-align: right;\">\n",
              "      <th></th>\n",
              "      <th>account_age_months</th>\n",
              "      <th>monthly_charges</th>\n",
              "      <th>subscription_tier</th>\n",
              "      <th>support_calls</th>\n",
              "      <th>reported_issues</th>\n",
              "      <th>inactive_days</th>\n",
              "      <th>usage_decline</th>\n",
              "      <th>competitor_offer</th>\n",
              "      <th>promotion_response</th>\n",
              "      <th>contract_type</th>\n",
              "      <th>payment_method</th>\n",
              "      <th>online_security</th>\n",
              "      <th>tech_support</th>\n",
              "      <th>churn</th>\n",
              "    </tr>\n",
              "  </thead>\n",
              "  <tbody>\n",
              "    <tr>\n",
              "      <th>0</th>\n",
              "      <td>12</td>\n",
              "      <td>73.73</td>\n",
              "      <td>3</td>\n",
              "      <td>3</td>\n",
              "      <td>2</td>\n",
              "      <td>7</td>\n",
              "      <td>8.9</td>\n",
              "      <td>0</td>\n",
              "      <td>0</td>\n",
              "      <td>2</td>\n",
              "      <td>0</td>\n",
              "      <td>0</td>\n",
              "      <td>0</td>\n",
              "      <td>0</td>\n",
              "    </tr>\n",
              "    <tr>\n",
              "      <th>1</th>\n",
              "      <td>35</td>\n",
              "      <td>58.23</td>\n",
              "      <td>1</td>\n",
              "      <td>5</td>\n",
              "      <td>3</td>\n",
              "      <td>18</td>\n",
              "      <td>18.6</td>\n",
              "      <td>0</td>\n",
              "      <td>1</td>\n",
              "      <td>0</td>\n",
              "      <td>3</td>\n",
              "      <td>1</td>\n",
              "      <td>0</td>\n",
              "      <td>0</td>\n",
              "    </tr>\n",
              "    <tr>\n",
              "      <th>2</th>\n",
              "      <td>32</td>\n",
              "      <td>57.90</td>\n",
              "      <td>2</td>\n",
              "      <td>5</td>\n",
              "      <td>2</td>\n",
              "      <td>16</td>\n",
              "      <td>22.5</td>\n",
              "      <td>1</td>\n",
              "      <td>0</td>\n",
              "      <td>2</td>\n",
              "      <td>0</td>\n",
              "      <td>1</td>\n",
              "      <td>1</td>\n",
              "      <td>0</td>\n",
              "    </tr>\n",
              "    <tr>\n",
              "      <th>3</th>\n",
              "      <td>17</td>\n",
              "      <td>85.43</td>\n",
              "      <td>2</td>\n",
              "      <td>5</td>\n",
              "      <td>2</td>\n",
              "      <td>12</td>\n",
              "      <td>10.0</td>\n",
              "      <td>0</td>\n",
              "      <td>0</td>\n",
              "      <td>1</td>\n",
              "      <td>0</td>\n",
              "      <td>1</td>\n",
              "      <td>0</td>\n",
              "      <td>0</td>\n",
              "    </tr>\n",
              "    <tr>\n",
              "      <th>4</th>\n",
              "      <td>41</td>\n",
              "      <td>87.41</td>\n",
              "      <td>1</td>\n",
              "      <td>3</td>\n",
              "      <td>3</td>\n",
              "      <td>22</td>\n",
              "      <td>20.3</td>\n",
              "      <td>1</td>\n",
              "      <td>1</td>\n",
              "      <td>1</td>\n",
              "      <td>1</td>\n",
              "      <td>0</td>\n",
              "      <td>0</td>\n",
              "      <td>1</td>\n",
              "    </tr>\n",
              "  </tbody>\n",
              "</table>\n",
              "</div>"
            ],
            "text/plain": [
              "   account_age_months  monthly_charges  subscription_tier  support_calls  \\\n",
              "0                  12            73.73                  3              3   \n",
              "1                  35            58.23                  1              5   \n",
              "2                  32            57.90                  2              5   \n",
              "3                  17            85.43                  2              5   \n",
              "4                  41            87.41                  1              3   \n",
              "\n",
              "   reported_issues  inactive_days  usage_decline  competitor_offer  \\\n",
              "0                2              7            8.9                 0   \n",
              "1                3             18           18.6                 0   \n",
              "2                2             16           22.5                 1   \n",
              "3                2             12           10.0                 0   \n",
              "4                3             22           20.3                 1   \n",
              "\n",
              "   promotion_response  contract_type  payment_method  online_security  \\\n",
              "0                   0              2               0                0   \n",
              "1                   1              0               3                1   \n",
              "2                   0              2               0                1   \n",
              "3                   0              1               0                1   \n",
              "4                   1              1               1                0   \n",
              "\n",
              "   tech_support  churn  \n",
              "0             0      0  \n",
              "1             0      0  \n",
              "2             1      0  \n",
              "3             0      0  \n",
              "4             0      1  "
            ]
          },
          "execution_count": 5,
          "metadata": {},
          "output_type": "execute_result"
        }
      ],
      "source": [
        "# Run this cell without changes\n",
        "# Check the first few rows of the dataset\n",
        "df_telco.head()"
      ]
    },
    {
      "cell_type": "code",
      "execution_count": 6,
      "metadata": {
        "id": "89ZFbEvfrhDC"
      },
      "outputs": [
        {
          "data": {
            "text/plain": [
              "churn\n",
              "0    0.6573\n",
              "1    0.3427\n",
              "Name: proportion, dtype: float64"
            ]
          },
          "execution_count": 6,
          "metadata": {},
          "output_type": "execute_result"
        }
      ],
      "source": [
        "# Run this cell without changes\n",
        "# Check the distribution of the target variable\n",
        "df_telco['churn'].value_counts(normalize=True)"
      ]
    },
    {
      "cell_type": "markdown",
      "metadata": {
        "id": "wvxRMxyzrhDC"
      },
      "source": [
        "## Part 1: Initial Assessment\n",
        "\n",
        "Establish a baseline DecisionTree model using default parameters to understand how well a basic decision tree performs on our data.\n",
        "\n",
        "### Data Preparation\n",
        "\n",
        "Prepare your data for modeling. For simplicity, we'll assume the data is already preprocessed, but in a real scenario, you would need to handle missing values, encode categorical variables, etc.\n",
        "- Use a 75-25 split\n",
        "- And set `random_state` = 42 for both the split and the Decision Tree Model"
      ]
    },
    {
      "cell_type": "code",
      "execution_count": 8,
      "metadata": {
        "id": "Zh-hJOsIrhDD"
      },
      "outputs": [],
      "source": [
        "# CodeGrade step1\n",
        "# Replace None with your code\n",
        "# Prepare features (X) and target (y)\n",
        "# Select all columns except 'churn' as features\n",
        "# Use 'churn' as the target variable\n",
        "\n",
        "X = df_telco.drop(columns=['churn'])\n",
        "y = df_telco['churn']\n",
        "\n",
        "# Splitting the data into training and testing sets (use a 75-25 split, and random_state of 42)\n",
        "X_train, X_test, y_train, y_test = train_test_split(\n",
        "    X, y, test_size=0.25, random_state=42\n",
        "    # , stratify=y   # optional: keep class balance if y is imbalanced\n",
        ")"
      ]
    },
    {
      "cell_type": "code",
      "execution_count": 10,
      "metadata": {
        "id": "d4WcGWU3rhDD"
      },
      "outputs": [],
      "source": [
        "# CodeGrade step2\n",
        "# Replace None with your code\n",
        "# Create a baseline decision tree classifier with default parameters (set random_state = 42)\n",
        "baseline_model = DecisionTreeClassifier(random_state=42)\n",
        "\n",
        "# Define number of folds for cross-validation\n",
        "cv = 5\n",
        "\n",
        "# Perform cross-validation to get a robust estimate of model performance\n",
        "# Set scoring = 'recall'\n",
        "# Should be a list of scores\n",
        "baseline_scores = cross_val_score(baseline_model, X_train, y_train, cv=cv, scoring='recall')"
      ]
    },
    {
      "cell_type": "code",
      "execution_count": 11,
      "metadata": {
        "id": "RxCU7Q47rhDD"
      },
      "outputs": [],
      "source": [
        "# CodeGrade step3\n",
        "# Replace None with your code\n",
        "# Fit the baseline model to the training data to examine feature importance\n",
        "baseline_fit = baseline_model.fit(X_train, y_train)\n",
        "\n",
        "# Get training predictions\n",
        "baseline_train_preds = baseline_fit.predict(X_train)\n",
        "\n",
        "# Get the training recall score\n",
        "baseline_train_score = recall_score(y_train, baseline_train_preds)\n",
        "\n",
        "# Create a dictionary of feature importances (feature_name : importance_value)\n",
        "initial_importance = dict(zip(X_train.columns, baseline_fit.feature_importances_))\n"
      ]
    },
    {
      "cell_type": "code",
      "execution_count": 12,
      "metadata": {
        "id": "Owmt7AimrhDE"
      },
      "outputs": [
        {
          "name": "stdout",
          "output_type": "stream",
          "text": [
            "Baseline model training recall: 1.000\n",
            "Baseline model Cross-Val recall: 0.879\n",
            "\n",
            "Initial Feature Importance:\n"
          ]
        },
        {
          "data": {
            "text/plain": [
              "{'account_age_months': 0.08737058226600114,\n",
              " 'monthly_charges': 0.2203411386435189,\n",
              " 'subscription_tier': 0.21699174492783263,\n",
              " 'support_calls': 0.1540278089239634,\n",
              " 'reported_issues': 0.03531838461657587,\n",
              " 'inactive_days': 0.02171966885196139,\n",
              " 'usage_decline': 0.16336026504582968,\n",
              " 'competitor_offer': 0.07181179580258314,\n",
              " 'promotion_response': 0.004619658633116299,\n",
              " 'contract_type': 0.0071163418943040084,\n",
              " 'payment_method': 0.008704718931263778,\n",
              " 'online_security': 0.005872612974407575,\n",
              " 'tech_support': 0.0027452784886419163}"
            ]
          },
          "execution_count": 12,
          "metadata": {},
          "output_type": "execute_result"
        }
      ],
      "source": [
        "# Run this cell without changes\n",
        "# Display CV and training scores\n",
        "print(f\"Baseline model training recall: {baseline_train_score:.3f}\")\n",
        "print(f\"Baseline model Cross-Val recall: {baseline_scores.mean():.3f}\")\n",
        "# Display feature importances\n",
        "print(\"\\nInitial Feature Importance:\")\n",
        "initial_importance"
      ]
    },
    {
      "cell_type": "markdown",
      "metadata": {
        "id": "Tppu6-O7rhDE"
      },
      "source": [
        "### Analyzing the baseline model\n",
        "\n",
        "Now, let's reflect on what we've learned from the baseline model.\n",
        "\n",
        "1. Is our model overfitting, underfitting, or balanced? How can you tell?\n",
        "2. Which features appear to be most important for predicting churn?\n",
        "3. Based on your findings, what should be your focus in hyperparameter tuning?"
      ]
    },
    {
      "cell_type": "markdown",
      "metadata": {
        "id": "wNKJ6-rhrhDE"
      },
      "source": [
        "## Part 2: Broad Exploration with Randomized Search\n",
        "\n",
        "Now, use randomized search to efficiently explore a broad parameter space. This will help us identify promising regions without evaluating every possible parameter combination. Include the following hyperparameters and distributions in your RandomizedSearch.\n",
        "- 'criterion': ['gini', 'entropy', 'log_loss']\n",
        "- 'max_depth': np.arange(3, 100, 2)\n",
        "- 'min_samples_split': np.arange(2, 21)\n",
        "- 'min_samples_leaf': np.arange(1, 21)"
      ]
    },
    {
      "cell_type": "code",
      "execution_count": 13,
      "metadata": {
        "id": "HUuZIvjHrhDE"
      },
      "outputs": [],
      "source": [
        "# CodeGrade step4\n",
        "# Replace None with your code\n",
        "# Define parameter distributions for random search\n",
        "param_dist = {\n",
        "    'max_depth': [None, 3, 5, 10, 20, 30],\n",
        "    'min_samples_split': [2, 5, 10, 20],\n",
        "    'min_samples_leaf': [1, 2, 4, 6, 8],\n",
        "    'max_features': [None, 'sqrt', 'log2'],\n",
        "    'criterion': ['gini', 'entropy']\n",
        "}"
      ]
    },
    {
      "cell_type": "code",
      "execution_count": 14,
      "metadata": {
        "id": "IXyjsb6crhDE"
      },
      "outputs": [],
      "source": [
        "# CodeGrade step5\n",
        "# Replace None with your code\n",
        "# Create base model object (use random_state=42)\n",
        "model_search =  DecisionTreeClassifier(random_state=42)\n",
        "\n",
        "# Initialize randomized search (ensure you are scoring based on recall)\n",
        "random_search = RandomizedSearchCV(\n",
        "    estimator=model_search,\n",
        "    param_distributions=param_dist,   \n",
        "    n_iter=50,                       \n",
        "    scoring='recall',\n",
        "    cv=cv,\n",
        "    random_state=42,\n",
        "    n_jobs=-1,\n",
        "    verbose=0\n",
        ")\n",
        "\n",
        "# Perform search (fit to data)\n",
        "random_search.fit(X_train, y_train)\n",
        "\n",
        "# Extract results from search\n",
        "best_parameters_rand = random_search.best_params_\n",
        "bestcv_score_rand = random_search.best_score_\n",
        "best_training_score_rand = recall_score(y_train, random_search.best_estimator_.predict(X_train))\n"
      ]
    },
    {
      "cell_type": "code",
      "execution_count": 15,
      "metadata": {
        "id": "ufTt-_X-rhDE"
      },
      "outputs": [
        {
          "name": "stdout",
          "output_type": "stream",
          "text": [
            "Best parameters from random search:\n",
            "{'min_samples_split': 20, 'min_samples_leaf': 6, 'max_features': None, 'max_depth': None, 'criterion': 'entropy'}\n",
            "Best cross-validation score: 0.891\n",
            "Best training score: 0.935\n"
          ]
        }
      ],
      "source": [
        "# Run this cell without changes\n",
        "# Print results\n",
        "print(\"Best parameters from random search:\")\n",
        "print(best_parameters_rand)\n",
        "print(f\"Best cross-validation score: {bestcv_score_rand:.3f}\")\n",
        "print(f\"Best training score: {best_training_score_rand:.3f}\")"
      ]
    },
    {
      "cell_type": "markdown",
      "metadata": {
        "id": "7R5WeftZrhDE"
      },
      "source": [
        "### Analyzing the randomized search results\n",
        "\n",
        "1. How do the best parameters from randomized search compare to the default parameters?\n",
        "2. Has the model performance improved? By how much?\n",
        "3. Is there still evidence of overfitting, and if so, has it been reduced?"
      ]
    },
    {
      "cell_type": "markdown",
      "metadata": {
        "id": "PiTmMjLErhDE"
      },
      "source": [
        "## Part 3: Focused Optimization with Grid Search\n",
        "\n",
        "Based on the results from randomized search, let's now perform a more focused grid search around the promising parameter regions we've identified.\n",
        "\n",
        "NOTE: It is okay if your model does not improve or has similar performance as this is often an iterative process while you are only doing one GridSearch here."
      ]
    },
    {
      "cell_type": "code",
      "execution_count": null,
      "metadata": {
        "id": "4prT2aWOrhDE"
      },
      "outputs": [],
      "source": [
        "# CodeGrade step6\n",
        "# Replace None with your code\n",
        "# Define a focused parameter grid based on the best parameters from random search\n",
        "focused_param_grid = {\n",
        "    'max_depth': [best_parameters_rand['max_depth']-2, best_parameters_rand['max_depth'], best_parameters_rand['max_depth']+2] if best_parameters_rand['max_depth'] not in [None] else [None, 5, 10],\n",
        "    'min_samples_split': [max(2, best_parameters_rand['min_samples_split']-2), best_parameters_rand['min_samples_split'], best_parameters_rand['min_samples_split']+2],\n",
        "    'min_samples_leaf': [max(1, best_parameters_rand['min_samples_leaf']-1), best_parameters_rand['min_samples_leaf'], best_parameters_rand['min_samples_leaf']+1],\n",
        "    'max_features': [best_parameters_rand['max_features']],\n",
        "    'criterion': [best_parameters_rand['criterion']]\n",
        "}"
      ]
    },
    {
      "cell_type": "code",
      "execution_count": 17,
      "metadata": {
        "id": "KymL_SprrhDE"
      },
      "outputs": [],
      "source": [
        "# CodeGrade step7\n",
        "# Replace None with your code\n",
        "\n",
        "# Define a focused parameter grid based on the best parameters from random search\n",
        "focused_param_grid = {\n",
        "    'max_depth': [best_parameters_rand['max_depth']-2, best_parameters_rand['max_depth'], best_parameters_rand['max_depth']+2] if best_parameters_rand['max_depth'] not in [None] else [None, 5, 10],\n",
        "    'min_samples_split': [max(2, best_parameters_rand['min_samples_split']-2), best_parameters_rand['min_samples_split'], best_parameters_rand['min_samples_split']+2],\n",
        "    'min_samples_leaf': [max(1, best_parameters_rand['min_samples_leaf']-1), best_parameters_rand['min_samples_leaf'], best_parameters_rand['min_samples_leaf']+1],\n",
        "    'max_features': [best_parameters_rand['max_features']],\n",
        "    'criterion': [best_parameters_rand['criterion']]\n",
        "}\n",
        "\n",
        "# Initialize grid search (make sure to use recall score)\n",
        "grid_search = GridSearchCV(\n",
        "    estimator=DecisionTreeClassifier(random_state=42),\n",
        "    param_grid=focused_param_grid,      # from step 6\n",
        "    scoring='recall',\n",
        "    cv=cv,\n",
        "    n_jobs=-1,\n",
        "    verbose=0\n",
        ")\n",
        "\n",
        "# Perform GridSearch (fit to data)\n",
        "grid_search.fit(X_train, y_train)\n",
        "\n",
        "# Extract results from search\n",
        "best_parameters_grid = grid_search.best_params_\n",
        "bestcv_score_grid = grid_search.best_score_\n",
        "best_training_score_grid = recall_score(y_train, grid_search.best_estimator_.predict(X_train))\n"
      ]
    },
    {
      "cell_type": "code",
      "execution_count": 18,
      "metadata": {
        "id": "B0wamU65rhDF"
      },
      "outputs": [
        {
          "name": "stdout",
          "output_type": "stream",
          "text": [
            "Best parameters from grid search:\n",
            "{'criterion': 'entropy', 'max_depth': 10, 'max_features': None, 'min_samples_leaf': 7, 'min_samples_split': 22}\n",
            "Best cross-validation score: 0.898\n",
            "Best training score: 0.928\n"
          ]
        }
      ],
      "source": [
        "# Run this cell without changes\n",
        "# Print results\n",
        "print(\"Best parameters from grid search:\")\n",
        "print(best_parameters_grid)\n",
        "print(f\"Best cross-validation score: {bestcv_score_grid:.3f}\")\n",
        "print(f\"Best training score: {best_training_score_grid:.3f}\")"
      ]
    },
    {
      "cell_type": "markdown",
      "metadata": {
        "id": "QX15Y3ParhDF"
      },
      "source": [
        "## Part 4: Final Validation\n",
        "\n",
        "Now, evaluate your final tuned model on the held-out test set to get an unbiased estimate of its performance."
      ]
    },
    {
      "cell_type": "code",
      "execution_count": 20,
      "metadata": {
        "id": "_w0nHiwlrhDF"
      },
      "outputs": [],
      "source": [
        "# CodeGrade step8\n",
        "# Replace None with your code\n",
        "# Get the best model from your grid search\n",
        "final_model = grid_search.best_estimator_\n",
        "\n",
        "# Get predictions on test set\n",
        "y_pred = final_model.predict(X_test)\n",
        "\n",
        "# Evaluate recall score on the test set\n",
        "final_test_score = recall_score(y_test, y_pred, zero_division=0)"
      ]
    },
    {
      "cell_type": "code",
      "execution_count": 21,
      "metadata": {
        "id": "_CIyRXYOrhDF"
      },
      "outputs": [
        {
          "name": "stdout",
          "output_type": "stream",
          "text": [
            "\n",
            "Final Model Evaluation:\n",
            "Best parameters: {'criterion': 'entropy', 'max_depth': 10, 'max_features': None, 'min_samples_leaf': 7, 'min_samples_split': 22}\n",
            "Cross-validation recall: 0.898\n",
            "Test set recall: 0.910\n"
          ]
        }
      ],
      "source": [
        "# Run this cell to display results\n",
        "print(\"\\nFinal Model Evaluation:\")\n",
        "print(f\"Best parameters: {grid_search.best_params_}\")\n",
        "print(f\"Cross-validation recall: {bestcv_score_grid:.3f}\")\n",
        "print(f\"Test set recall: {final_test_score:.3f}\")"
      ]
    },
    {
      "cell_type": "code",
      "execution_count": 22,
      "metadata": {
        "id": "u5BMOfVjrhDF"
      },
      "outputs": [],
      "source": [
        "# CodeGrade step9\n",
        "# Replace None with your code\n",
        "# Calculate confusion matrix on testing data\n",
        "cm = confusion_matrix(y_test, y_pred)"
      ]
    },
    {
      "cell_type": "code",
      "execution_count": 23,
      "metadata": {
        "id": "8DNLTQbarhDF"
      },
      "outputs": [
        {
          "data": {
            "image/png": "[encoded data removed]",
            "text/plain": [
              "<Figure size 640x480 with 2 Axes>"
            ]
          },
          "metadata": {},
          "output_type": "display_data"
        }
      ],
      "source": [
        "# Run this cell without changes\n",
        "# Code for plotting the confusion matrix\n",
        "disp = ConfusionMatrixDisplay(confusion_matrix=cm,\n",
        "                              display_labels=final_model.classes_)\n",
        "disp.plot();"
      ]
    },
    {
      "cell_type": "code",
      "execution_count": 25,
      "metadata": {
        "id": "cOD3SOQrrhDF"
      },
      "outputs": [
        {
          "data": {
            "text/plain": [
              "{'account_age_months': 0.0769470008686076,\n",
              " 'monthly_charges': 0.21955868612514695,\n",
              " 'subscription_tier': 0.13174927773499323,\n",
              " 'support_calls': 0.11250081339635401,\n",
              " 'reported_issues': 0.047742147846967065,\n",
              " 'inactive_days': 0.007522103328283782,\n",
              " 'usage_decline': 0.19667214045191153,\n",
              " 'competitor_offer': 0.20250076945203238,\n",
              " 'promotion_response': 0.0005094577259820089,\n",
              " 'contract_type': 0.0007493299405308705,\n",
              " 'payment_method': 0.0016425274251129797,\n",
              " 'online_security': 0.0003575285627358718,\n",
              " 'tech_support': 0.0015482171413417167}"
            ]
          },
          "execution_count": 25,
          "metadata": {},
          "output_type": "execute_result"
        }
      ],
      "source": [
        "# CodeGrade step10\n",
        "# Replace None with your code\n",
        "# Extract feature importance for the final model and create a dictionary for it\n",
        "final_feature_importance = dict(zip(X_train.columns, final_model.feature_importances_))\n",
        "final_feature_importance"
      ]
    }
  ],
  "metadata": {
    "colab": {
      "provenance": []
    },
    "kernelspec": {
      "display_name": "base",
      "language": "python",
      "name": "python3"
    },
    "language_info": {
      "codemirror_mode": {
        "name": "ipython",
        "version": 3
      },
      "file_extension": ".py",
      "mimetype": "text/x-python",
      "name": "python",
      "nbconvert_exporter": "python",
      "pygments_lexer": "ipython3",
      "version": "3.12.7"
    }
  },
  "nbformat": 4,
  "nbformat_minor": 0
}
