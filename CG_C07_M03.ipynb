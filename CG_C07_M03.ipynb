{
  "cells": [
    {
      "cell_type": "code",
      "execution_count": null,
      "metadata": {
        "id": "lg8KsToBZqS5"
      },
      "outputs": [],
      "source": [
        "# ! pip install faraway"
      ]
    },
    {
      "cell_type": "markdown",
      "metadata": {
        "id": "v2EwAlH5Z55j"
      },
      "source": [
        "### Step 0"
      ]
    },
    {
      "cell_type": "code",
      "execution_count": null,
      "metadata": {
        "id": "H_T6p1iSZ6Qf"
      },
      "outputs": [],
      "source": [
        "# CodeGrade step0\n",
        "\n",
        "# Import Libraries\n",
        "import pandas as pd\n",
        "import numpy as np\n",
        "import matplotlib.pyplot as plt\n",
        "import seaborn as sns\n",
        "from sklearn.model_selection import train_test_split\n",
        "from sklearn.preprocessing import StandardScaler\n",
        "from sklearn.linear_model import LogisticRegression\n",
        "from sklearn.metrics import accuracy_score, confusion_matrix, classification_report\n",
        "from sklearn.metrics import roc_auc_score, roc_curve\n",
        "\n"
      ]
    },
    {
      "cell_type": "markdown",
      "metadata": {
        "id": "2hbiTmlTbl5w"
      },
      "source": [
        "### Step 1\n",
        "\n",
        "*  [Data](https://rdrr.io/cran/faraway/man/pima.html)\n",
        "*  [Faraway](https://pypi.org/project/faraway/)"
      ]
    },
    {
      "cell_type": "code",
      "execution_count": null,
      "metadata": {
        "id": "ALA-pUB2Z8nf"
      },
      "outputs": [
        {
          "name": "stdout",
          "output_type": "stream",
          "text": [
            "Requirement already satisfied: faraway in /opt/anaconda3/lib/python3.12/site-packages (0.0.6)\n",
            "Note: you may need to restart the kernel to use updated packages.\n",
            "   pregnant  glucose  diastolic  triceps  insulin   bmi  diabetes  age  test\n",
            "0         6      148         72       35        0  33.6     0.627   50     1\n",
            "1         1       85         66       29        0  26.6     0.351   31     0\n",
            "2         8      183         64        0        0  23.3     0.672   32     1\n",
            "3         1       89         66       23       94  28.1     0.167   21     0\n",
            "4         0      137         40       35      168  43.1     2.288   33     1\n",
            "\n",
            "Target distribution:\n",
            " test\n",
            "0    500\n",
            "1    268\n",
            "Name: count, dtype: int64\n"
          ]
        }
      ],
      "source": [
        "# CodeGrade step0\n",
        "\n",
        "# Install faraway if not already installed\n",
        "%pip install faraway\n",
        "\n",
        "# Load the Dataset from faraway\n",
        "from faraway.datasets import pima\n",
        "\n",
        "# Load the dataset\n",
        "data = pima.load()\n",
        "\n",
        "# Convert 'diabetes' column to int type to represent classes 0 and 1\n",
        "data['test'] = data['test'].astype(int)\n",
        "\n",
        "print(data.head())\n",
        "print(\"\\nTarget distribution:\\n\", data['test'].value_counts())\n",
        "\n"
      ]
    },
    {
      "cell_type": "code",
      "execution_count": null,
      "metadata": {
        "id": "_83kKXkddezN"
      },
      "outputs": [
        {
          "data": {
            "text/html": [
              "<div>\n",
              "<style scoped>\n",
              "    .dataframe tbody tr th:only-of-type {\n",
              "        vertical-align: middle;\n",
              "    }\n",
              "\n",
              "    .dataframe tbody tr th {\n",
              "        vertical-align: top;\n",
              "    }\n",
              "\n",
              "    .dataframe thead th {\n",
              "        text-align: right;\n",
              "    }\n",
              "</style>\n",
              "<table border=\"1\" class=\"dataframe\">\n",
              "  <thead>\n",
              "    <tr style=\"text-align: right;\">\n",
              "      <th></th>\n",
              "      <th>pregnant</th>\n",
              "      <th>glucose</th>\n",
              "      <th>diastolic</th>\n",
              "      <th>triceps</th>\n",
              "      <th>insulin</th>\n",
              "      <th>bmi</th>\n",
              "      <th>diabetes</th>\n",
              "      <th>age</th>\n",
              "      <th>test</th>\n",
              "    </tr>\n",
              "  </thead>\n",
              "  <tbody>\n",
              "    <tr>\n",
              "      <th>0</th>\n",
              "      <td>6</td>\n",
              "      <td>148</td>\n",
              "      <td>72</td>\n",
              "      <td>35</td>\n",
              "      <td>0</td>\n",
              "      <td>33.6</td>\n",
              "      <td>0.627</td>\n",
              "      <td>50</td>\n",
              "      <td>1</td>\n",
              "    </tr>\n",
              "    <tr>\n",
              "      <th>1</th>\n",
              "      <td>1</td>\n",
              "      <td>85</td>\n",
              "      <td>66</td>\n",
              "      <td>29</td>\n",
              "      <td>0</td>\n",
              "      <td>26.6</td>\n",
              "      <td>0.351</td>\n",
              "      <td>31</td>\n",
              "      <td>0</td>\n",
              "    </tr>\n",
              "    <tr>\n",
              "      <th>2</th>\n",
              "      <td>8</td>\n",
              "      <td>183</td>\n",
              "      <td>64</td>\n",
              "      <td>0</td>\n",
              "      <td>0</td>\n",
              "      <td>23.3</td>\n",
              "      <td>0.672</td>\n",
              "      <td>32</td>\n",
              "      <td>1</td>\n",
              "    </tr>\n",
              "    <tr>\n",
              "      <th>3</th>\n",
              "      <td>1</td>\n",
              "      <td>89</td>\n",
              "      <td>66</td>\n",
              "      <td>23</td>\n",
              "      <td>94</td>\n",
              "      <td>28.1</td>\n",
              "      <td>0.167</td>\n",
              "      <td>21</td>\n",
              "      <td>0</td>\n",
              "    </tr>\n",
              "    <tr>\n",
              "      <th>4</th>\n",
              "      <td>0</td>\n",
              "      <td>137</td>\n",
              "      <td>40</td>\n",
              "      <td>35</td>\n",
              "      <td>168</td>\n",
              "      <td>43.1</td>\n",
              "      <td>2.288</td>\n",
              "      <td>33</td>\n",
              "      <td>1</td>\n",
              "    </tr>\n",
              "  </tbody>\n",
              "</table>\n",
              "</div>"
            ],
            "text/plain": [
              "   pregnant  glucose  diastolic  triceps  insulin   bmi  diabetes  age  test\n",
              "0         6      148         72       35        0  33.6     0.627   50     1\n",
              "1         1       85         66       29        0  26.6     0.351   31     0\n",
              "2         8      183         64        0        0  23.3     0.672   32     1\n",
              "3         1       89         66       23       94  28.1     0.167   21     0\n",
              "4         0      137         40       35      168  43.1     2.288   33     1"
            ]
          },
          "metadata": {},
          "output_type": "display_data"
        },
        {
          "name": "stdout",
          "output_type": "stream",
          "text": [
            "\n",
            "Info:\n",
            "<class 'pandas.core.frame.DataFrame'>\n",
            "RangeIndex: 768 entries, 0 to 767\n",
            "Data columns (total 9 columns):\n",
            " #   Column     Non-Null Count  Dtype  \n",
            "---  ------     --------------  -----  \n",
            " 0   pregnant   768 non-null    int64  \n",
            " 1   glucose    768 non-null    int64  \n",
            " 2   diastolic  768 non-null    int64  \n",
            " 3   triceps    768 non-null    int64  \n",
            " 4   insulin    768 non-null    int64  \n",
            " 5   bmi        768 non-null    float64\n",
            " 6   diabetes   768 non-null    float64\n",
            " 7   age        768 non-null    int64  \n",
            " 8   test       768 non-null    int64  \n",
            "dtypes: float64(2), int64(7)\n",
            "memory usage: 54.1 KB\n",
            "None\n",
            "\n",
            "Missing values per column:\n",
            "pregnant     0\n",
            "glucose      0\n",
            "diastolic    0\n",
            "triceps      0\n",
            "insulin      0\n",
            "bmi          0\n",
            "diabetes     0\n",
            "age          0\n",
            "test         0\n",
            "dtype: int64\n",
            "Zero→NaN + median imputation applied to: ['glucose', 'diastolic', 'triceps', 'insulin', 'bmi']\n"
          ]
        }
      ],
      "source": [
        "# Display the first few rows and info\n",
        "display(data.head())\n",
        "print(\"\\nInfo:\")\n",
        "print(data.info())\n",
        "\n",
        "print(\"\\nMissing values per column:\")\n",
        "print(data.isna().sum())\n",
        "zero_as_missing = ['glucose', 'diastolic', 'triceps', 'insulin', 'bmi']\n",
        "existing = [c for c in zero_as_missing if c in data.columns]\n",
        "\n",
        "for col in existing:\n",
        "    data[col] = data[col].replace(0, np.nan)\n",
        "\n",
        "# Median imputation\n",
        "for col in existing:\n",
        "    data[col] = data[col].fillna(data[col].median())\n",
        "\n",
        "print(\"Zero→NaN + median imputation applied to:\", existing)\n",
        "\n"
      ]
    },
    {
      "cell_type": "code",
      "execution_count": null,
      "metadata": {
        "id": "9RzxC_lQeb19"
      },
      "outputs": [
        {
          "name": "stdout",
          "output_type": "stream",
          "text": [
            "\n",
            "Shape (rows, cols): (768, 9)\n"
          ]
        }
      ],
      "source": [
        "# CodeGrade step1\n",
        "\n",
        "# Shape\n",
        "# Check the dataset’s shape to determine the number of rows and columns.\n",
        "print(\"\\nShape (rows, cols):\", data.shape)"
      ]
    },
    {
      "cell_type": "markdown",
      "metadata": {
        "id": "Wiq_Lq8PcVNn"
      },
      "source": [
        "### Step 2"
      ]
    },
    {
      "cell_type": "code",
      "execution_count": null,
      "metadata": {
        "id": "bvdPRx7-aEbC"
      },
      "outputs": [
        {
          "name": "stdout",
          "output_type": "stream",
          "text": [
            "Train shape: (614, 8)  | Test shape: (154, 8)\n"
          ]
        }
      ],
      "source": [
        "# CodeGrade step2\n",
        "\n",
        "#  Define Features and Scale the Data\n",
        "# Define features (X) and target (y)\n",
        "feature_cols = [c for c in data.columns if c != 'test']\n",
        "X = data[feature_cols].astype(float)\n",
        "y = data['test'].astype(int)\n",
        "# Scale the features\n",
        "scaler = None\n",
        "X_scaled = None\n",
        "\n",
        "# Split the dataset into training (80%) and testing (20%) sets; set seed to 42\n",
        "# Use the usual naming convention\n",
        "RANDOM_STATE = 42\n",
        "X_train, X_test, y_train, y_test = train_test_split(\n",
        "    X, y, test_size=0.20, random_state=RANDOM_STATE, stratify=y\n",
        ")\n",
        "\n",
        "# Standardize the features using StandardScaler (fit on train only to avoid leakage).\n",
        "scaler = StandardScaler()\n",
        "X_train_scaled = scaler.fit_transform(X_train)\n",
        "X_test_scaled  = scaler.transform(X_test)\n",
        "# Give the shapes separated by commas\n",
        "print(\"Train shape:\", X_train_scaled.shape, \" | Test shape:\", X_test_scaled.shape)"
      ]
    },
    {
      "cell_type": "markdown",
      "metadata": {
        "id": "IvA9bJyCc64h"
      },
      "source": [
        "### Step 3\n"
      ]
    },
    {
      "cell_type": "code",
      "execution_count": null,
      "metadata": {
        "id": "evcB9xssaLZl"
      },
      "outputs": [],
      "source": [
        "# CodeGrade step3\n",
        "\n",
        "# Build and Train the Logistic Regression Model\n",
        "# Instantiate the logistic regression model\n",
        "# Call this a model\n",
        "log_reg = LogisticRegression(max_iter=2000, solver='lbfgs', random_state=RANDOM_STATE)\n",
        "\n",
        "\n",
        "# Train the model on the training set\n",
        "log_reg.fit(X_train_scaled, y_train)\n",
        "\n",
        "# Predict probabilities and classes; call these y_pred_proba and y_pred\n",
        "\n",
        "y_proba = log_reg.predict_proba(X_test_scaled)[:, 1]\n",
        "y_pred  = log_reg.predict(X_test_scaled)  # default threshold = 0.5\n",
        "# Confusion Matrix, call this and then return it as cm\n",
        "cm = confusion_matrix(y_test, y_pred, labels=[0, 1])"
      ]
    },
    {
      "cell_type": "markdown",
      "metadata": {
        "id": "IPwYB09AdYCr"
      },
      "source": [
        "### Step 4"
      ]
    },
    {
      "cell_type": "code",
      "execution_count": null,
      "metadata": {
        "id": "GtTDphJGjs6g"
      },
      "outputs": [
        {
          "name": "stdout",
          "output_type": "stream",
          "text": [
            "Accuracy : 0.708\n",
            "Precision: 0.600\n",
            "Recall   : 0.500\n",
            "\n",
            "Classification Report:\n",
            "              precision    recall  f1-score   support\n",
            "\n",
            "           0      0.752     0.820     0.785       100\n",
            "           1      0.600     0.500     0.545        54\n",
            "\n",
            "    accuracy                          0.708       154\n",
            "   macro avg      0.676     0.660     0.665       154\n",
            "weighted avg      0.699     0.708     0.701       154\n",
            "\n",
            "Confusion Matrix (rows=true, cols=pred):\n",
            " [[82 18]\n",
            " [27 27]]\n",
            "\n",
            "Precision for class 0: 0.7522935779816514\n"
          ]
        }
      ],
      "source": [
        "# CodeGrade step4\n",
        "\n",
        "from sklearn.metrics import precision_score, recall_score\n",
        "\n",
        "# Call the classification report \"report\"; return the precision for '0'\n",
        "\n",
        "report = classification_report(y_test, y_pred, digits=3, output_dict=True)\n",
        "acc  = accuracy_score(y_test, y_pred)\n",
        "prec = precision_score(y_test, y_pred, zero_division=0)\n",
        "rec  = recall_score(y_test, y_pred, zero_division=0)\n",
        "\n",
        "print(f\"Accuracy : {acc:.3f}\")\n",
        "print(f\"Precision: {prec:.3f}\")\n",
        "print(f\"Recall   : {rec:.3f}\\n\")\n",
        "\n",
        "print(\"Classification Report:\")\n",
        "print(classification_report(y_test, y_pred, digits=3))\n",
        "\n",
        "print(\"Confusion Matrix (rows=true, cols=pred):\\n\", cm)\n",
        "print(\"\\nPrecision for class 0:\", report['0']['precision'])"
      ]
    },
    {
      "cell_type": "code",
      "execution_count": null,
      "metadata": {
        "id": "tseCQk-GkUht"
      },
      "outputs": [
        {
          "data": {
            "image/png": "[encoded data removed]",
            "text/plain": [
              "<Figure size 450x380 with 1 Axes>"
            ]
          },
          "metadata": {},
          "output_type": "display_data"
        }
      ],
      "source": [
        "# Visualize Confusion Matrix\n",
        "plt.figure(figsize=(4.5, 3.8))\n",
        "sns.heatmap(\n",
        "    cm, annot=True, fmt='d', cbar=False,\n",
        "    xticklabels=['Non-Diabetic (0)', 'Diabetic (1)'],\n",
        "    yticklabels=['Non-Diabetic (0)', 'Diabetic (1)']\n",
        ")\n",
        "plt.xlabel('Predicted')\n",
        "plt.ylabel('Actual')\n",
        "plt.title('Logistic Regression — Confusion Matrix')\n",
        "plt.tight_layout()\n",
        "plt.show()"
      ]
    },
    {
      "cell_type": "markdown",
      "metadata": {
        "id": "FalvD1QgdgIi"
      },
      "source": [
        "### Step 5"
      ]
    },
    {
      "cell_type": "code",
      "execution_count": null,
      "metadata": {
        "id": "pfB4p8bLkBft"
      },
      "outputs": [
        {
          "data": {
            "text/plain": [
              "(0.812962962962963, 12.82, 30.61111111111111, inf)"
            ]
          },
          "execution_count": 10,
          "metadata": {},
          "output_type": "execute_result"
        }
      ],
      "source": [
        "# CodeGrade step5\n",
        "\n",
        "# Calculate AUC, call this auc\n",
        "auc = roc_auc_score(y_test, y_proba)\n",
        "\n",
        "# Calculate ROC curve by finding fpr, tpr, thresholds\n",
        "fpr, tpr, thresholds = roc_curve(y_test, y_proba)\n",
        "\n",
        "# Return the following\n",
        "auc, sum(fpr), sum(tpr), sum(thresholds)"
      ]
    },
    {
      "cell_type": "code",
      "execution_count": null,
      "metadata": {},
      "outputs": [],
      "source": []
    },
    {
      "cell_type": "code",
      "execution_count": null,
      "metadata": {
        "id": "eFfH2cNTkyq2"
      },
      "outputs": [],
      "source": [
        "# Print ROC Curve\n"
      ]
    }
  ],
  "metadata": {
    "colab": {
      "provenance": []
    },
    "kernelspec": {
      "display_name": "base",
      "language": "python",
      "name": "python3"
    },
    "language_info": {
      "codemirror_mode": {
        "name": "ipython",
        "version": 3
      },
      "file_extension": ".py",
      "mimetype": "text/x-python",
      "name": "python",
      "nbconvert_exporter": "python",
      "pygments_lexer": "ipython3",
      "version": "3.12.7"
    }
  },
  "nbformat": 4,
  "nbformat_minor": 0
}
