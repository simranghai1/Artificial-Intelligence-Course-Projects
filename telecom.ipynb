{
 "cells": [
  {
   "cell_type": "code",
   "execution_count": 2,
   "id": "4d7d30e9-7994-4a7f-b47a-f569754517d0",
   "metadata": {},
   "outputs": [
    {
     "name": "stdout",
     "output_type": "stream",
     "text": [
      "<class 'pandas.core.frame.DataFrame'>\n",
      "RangeIndex: 20000 entries, 0 to 19999\n",
      "Data columns (total 14 columns):\n",
      " #   Column              Non-Null Count  Dtype  \n",
      "---  ------              --------------  -----  \n",
      " 0   account_age_months  20000 non-null  int64  \n",
      " 1   monthly_charges     20000 non-null  float64\n",
      " 2   subscription_tier   20000 non-null  int64  \n",
      " 3   support_calls       20000 non-null  int64  \n",
      " 4   reported_issues     20000 non-null  int64  \n",
      " 5   inactive_days       20000 non-null  int64  \n",
      " 6   usage_decline       20000 non-null  float64\n",
      " 7   competitor_offer    20000 non-null  int64  \n",
      " 8   promotion_response  20000 non-null  int64  \n",
      " 9   contract_type       20000 non-null  int64  \n",
      " 10  payment_method      20000 non-null  int64  \n",
      " 11  online_security     20000 non-null  int64  \n",
      " 12  tech_support        20000 non-null  int64  \n",
      " 13  churn               20000 non-null  int64  \n",
      "dtypes: float64(2), int64(12)\n",
      "memory usage: 2.1 MB\n",
      "Recall: 0.8832968636032094\n",
      "              precision    recall  f1-score   support\n",
      "\n",
      "           0       0.94      0.94      0.94      2629\n",
      "           1       0.88      0.88      0.88      1371\n",
      "\n",
      "    accuracy                           0.92      4000\n",
      "   macro avg       0.91      0.91      0.91      4000\n",
      "weighted avg       0.92      0.92      0.92      4000\n",
      "\n",
      "[[2466  163]\n",
      " [ 160 1211]]\n"
     ]
    }
   ],
   "source": [
    "import pandas as pd\n",
    "from sklearn.model_selection import train_test_split\n",
    "from sklearn.tree import DecisionTreeClassifier\n",
    "from sklearn.metrics import classification_report, confusion_matrix, recall_score\n",
    "\n",
    "# Load CSV (must be in same folder as notebook)\n",
    "df = pd.read_csv(\"telecomchurn.csv\")\n",
    "\n",
    "# Show first 5 rows\n",
    "df.head()\n",
    "\n",
    "df.info()      # Check column types & missing values\n",
    "df.describe()  # Summary statistics\n",
    "# If 'churn' is already numeric (0/1), skip mapping\n",
    "# If not, uncomment the next line to map 'Yes'/'No' to 1/0\n",
    "# df['churn'] = df['churn'].map({'Yes': 1, 'No': 0})\n",
    "\n",
    "# Convert categorical columns to numeric with dummies\n",
    "df = pd.get_dummies(df, drop_first=True)\n",
    "X = df.drop('churn', axis=1)  # Features\n",
    "y = df['churn']               # Target\n",
    "\n",
    "X_train, X_test, y_train, y_test = train_test_split(\n",
    "    X, y, test_size=0.2, random_state=42, stratify=y\n",
    ")\n",
    "dt = DecisionTreeClassifier(random_state=42)\n",
    "dt.fit(X_train, y_train)\n",
    "y_pred = dt.predict(X_test)\n",
    "\n",
    "print(\"Recall:\", recall_score(y_test, y_pred))\n",
    "print(classification_report(y_test, y_pred))\n",
    "print(confusion_matrix(y_test, y_pred))\n"
   ]
  }
 ],
 "metadata": {
  "kernelspec": {
   "display_name": "base",
   "language": "python",
   "name": "python3"
  },
  "language_info": {
   "codemirror_mode": {
    "name": "ipython",
    "version": 3
   },
   "file_extension": ".py",
   "mimetype": "text/x-python",
   "name": "python",
   "nbconvert_exporter": "python",
   "pygments_lexer": "ipython3",
   "version": "3.12.7"
  }
 },
 "nbformat": 4,
 "nbformat_minor": 5
}
