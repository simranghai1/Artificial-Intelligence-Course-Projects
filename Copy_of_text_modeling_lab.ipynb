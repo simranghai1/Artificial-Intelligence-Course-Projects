{
  "cells": [
    {
      "cell_type": "markdown",
      "metadata": {
        "id": "x4Yh07MlLbJx"
      },
      "source": [
        "# Text Modeling with Naive Bayes Lab\n",
        "\n",
        "## Business Scenario\n",
        "\n",
        "You've recently joined UrbanTech, a company that develops software for urban transportation systems. As a junior data scientist on the customer experience team, you've been tasked with improving how the company handles user feedback from their mobile app.\n",
        "\n",
        "UrbanTech has a popular transit navigation app that helps users plan trips using public transportation. The app receives hundreds of user feedback messages daily through its in-app feedback form. Currently, these messages are manually sorted and routed to different teams - a time-consuming process that delays response times and creates inconsistent categorization.\n",
        "\n",
        "Your manager has asked you to develop a text classification system that can automatically categorize incoming feedback messages into three departments:\n",
        "1. **Navigation Issues** - Problems with directions, routes, or maps\n",
        "2. **Service Updates** - Feedback about transit service information accuracy\n",
        "3. **App Experience** - Issues with the app's functionality or user interface\n",
        "\n",
        "By implementing an effective text classification model, you'll help UrbanTech respond to user feedback more quickly and consistently, improving both internal efficiency and user satisfaction. You'll focus on using Naive Bayes, a powerful yet interpretable algorithm that works well with limited training data.\n",
        "\n",
        "## The Process\n",
        "\n",
        "In this lab, you'll follow these steps to build a text classification system:\n",
        "1. Data Loading and Exploration\n",
        "2. Text Preprocessing\n",
        "3. Feature Extraction\n",
        "4. Model Building with Naive Bayes\n",
        "5. Model Evaluation and Comparison\n",
        "6. Model Improvement\n",
        "7. Building a Prediction Function\n",
        "\n",
        "Let's get started!"
      ]
    },
    {
      "cell_type": "markdown",
      "metadata": {
        "id": "gjlAOMWbLbJ1"
      },
      "source": [
        "## Step 0: Setup - Import Libraries\n",
        "\n",
        "First, let's import all the necessary libraries for our text classification lab."
      ]
    },
    {
      "cell_type": "code",
      "execution_count": null,
      "metadata": {
        "colab": {
          "base_uri": "https://localhost:8080/"
        },
        "id": "B-LwKH--LbJ2",
        "outputId": "67260cf6-bae9-428a-8e04-4e2596ad9dde"
      },
      "outputs": [
        {
          "output_type": "stream",
          "name": "stderr",
          "text": [
            "[nltk_data] Downloading package punkt to /root/nltk_data...\n",
            "[nltk_data]   Package punkt is already up-to-date!\n",
            "[nltk_data] Downloading package stopwords to /root/nltk_data...\n",
            "[nltk_data]   Package stopwords is already up-to-date!\n",
            "[nltk_data] Downloading package wordnet to /root/nltk_data...\n",
            "[nltk_data]   Package wordnet is already up-to-date!\n",
            "[nltk_data] Downloading package punkt_tab to /root/nltk_data...\n",
            "[nltk_data]   Package punkt_tab is already up-to-date!\n",
            "[nltk_data] Downloading package averaged_perceptron_tagger to\n",
            "[nltk_data]     /root/nltk_data...\n",
            "[nltk_data]   Package averaged_perceptron_tagger is already up-to-\n",
            "[nltk_data]       date!\n"
          ]
        }
      ],
      "source": [
        "# Run this cell without changes\n",
        "# Import required libraries\n",
        "import pandas as pd\n",
        "import numpy as np\n",
        "import matplotlib.pyplot as plt\n",
        "import seaborn as sns\n",
        "import re\n",
        "import string\n",
        "\n",
        "# For text preprocessing and feature extraction\n",
        "import nltk\n",
        "from nltk.corpus import stopwords, wordnet\n",
        "from nltk.stem import WordNetLemmatizer\n",
        "from nltk.tokenize import word_tokenize\n",
        "from sklearn.feature_extraction.text import CountVectorizer, TfidfVectorizer\n",
        "\n",
        "# For modeling and evaluation\n",
        "from sklearn.model_selection import train_test_split, cross_val_score, GridSearchCV\n",
        "from sklearn.naive_bayes import MultinomialNB\n",
        "from sklearn.metrics import accuracy_score, classification_report, confusion_matrix\n",
        "from sklearn.pipeline import Pipeline\n",
        "\n",
        "# Download required NLTK data\n",
        "nltk.download('punkt')\n",
        "nltk.download('stopwords')\n",
        "nltk.download('wordnet')\n",
        "nltk.download('punkt_tab')\n",
        "nltk.download('averaged_perceptron_tagger') # Add this line to download averaged_perceptron_tagger\n",
        "\n",
        "# Set random seed for reproducibility\n",
        "np.random.seed(42)"
      ]
    },
    {
      "cell_type": "code",
      "source": [
        "import nltk\n",
        "\n",
        "# Core tokenizers/lexicons\n",
        "nltk.download('punkt')              # tokenizer\n",
        "nltk.download('stopwords')          # stop word list\n",
        "nltk.download('wordnet')            # lemmas\n",
        "nltk.download('omw-1.4')            # wordnet mappings\n",
        "\n",
        "# POS taggers (cover both old and new resource names)\n",
        "nltk.download('averaged_perceptron_tagger')\n",
        "nltk.download('averaged_perceptron_tagger_eng')"
      ],
      "metadata": {
        "colab": {
          "base_uri": "https://localhost:8080/"
        },
        "id": "H_QPAFBPO9ey",
        "outputId": "d794e949-66ed-4e08-9bda-4edb60a1f57b"
      },
      "execution_count": null,
      "outputs": [
        {
          "output_type": "stream",
          "name": "stderr",
          "text": [
            "[nltk_data] Downloading package punkt to /root/nltk_data...\n",
            "[nltk_data]   Package punkt is already up-to-date!\n",
            "[nltk_data] Downloading package stopwords to /root/nltk_data...\n",
            "[nltk_data]   Package stopwords is already up-to-date!\n",
            "[nltk_data] Downloading package wordnet to /root/nltk_data...\n",
            "[nltk_data]   Package wordnet is already up-to-date!\n",
            "[nltk_data] Downloading package omw-1.4 to /root/nltk_data...\n",
            "[nltk_data] Downloading package averaged_perceptron_tagger to\n",
            "[nltk_data]     /root/nltk_data...\n",
            "[nltk_data]   Package averaged_perceptron_tagger is already up-to-\n",
            "[nltk_data]       date!\n",
            "[nltk_data] Downloading package averaged_perceptron_tagger_eng to\n",
            "[nltk_data]     /root/nltk_data...\n",
            "[nltk_data]   Unzipping taggers/averaged_perceptron_tagger_eng.zip.\n"
          ]
        },
        {
          "output_type": "execute_result",
          "data": {
            "text/plain": [
              "True"
            ]
          },
          "metadata": {},
          "execution_count": 39
        }
      ]
    },
    {
      "cell_type": "markdown",
      "metadata": {
        "id": "xyMp7CWdLbJ3"
      },
      "source": [
        "## Step 1: Data Loading and Exploration\n",
        "\n",
        "Let's load the dataset of user feedback messages and explore its characteristics."
      ]
    },
    {
      "cell_type": "code",
      "execution_count": null,
      "metadata": {
        "colab": {
          "base_uri": "https://localhost:8080/",
          "height": 204
        },
        "id": "MtDjIv-ELbJ3",
        "outputId": "956f8fe8-bccf-4c55-a99d-463e8f4624cf"
      },
      "outputs": [
        {
          "output_type": "execute_result",
          "data": {
            "text/plain": [
              "   feedback_id                                      feedback_text  \\\n",
              "0          141  Why does the app need access to my contacts? T...   \n",
              "1          114  The station closure information isn't visible ...   \n",
              "2           17  The crosswalk at Main and Central is shown in ...   \n",
              "3           76  The ferry schedule information hasn't been upd...   \n",
              "4          156  Every time I try to submit feedback through th...   \n",
              "\n",
              "          department  \n",
              "0     app_experience  \n",
              "1    service_updates  \n",
              "2  navigation_issues  \n",
              "3    service_updates  \n",
              "4     app_experience  "
            ],
            "text/html": [
              "\n",
              "  <div id=\"df-598933f6-36f9-440b-9adf-fcf430d99fb3\" class=\"colab-df-container\">\n",
              "    <div>\n",
              "<style scoped>\n",
              "    .dataframe tbody tr th:only-of-type {\n",
              "        vertical-align: middle;\n",
              "    }\n",
              "\n",
              "    .dataframe tbody tr th {\n",
              "        vertical-align: top;\n",
              "    }\n",
              "\n",
              "    .dataframe thead th {\n",
              "        text-align: right;\n",
              "    }\n",
              "</style>\n",
              "<table border=\"1\" class=\"dataframe\">\n",
              "  <thead>\n",
              "    <tr style=\"text-align: right;\">\n",
              "      <th></th>\n",
              "      <th>feedback_id</th>\n",
              "      <th>feedback_text</th>\n",
              "      <th>department</th>\n",
              "    </tr>\n",
              "  </thead>\n",
              "  <tbody>\n",
              "    <tr>\n",
              "      <th>0</th>\n",
              "      <td>141</td>\n",
              "      <td>Why does the app need access to my contacts? T...</td>\n",
              "      <td>app_experience</td>\n",
              "    </tr>\n",
              "    <tr>\n",
              "      <th>1</th>\n",
              "      <td>114</td>\n",
              "      <td>The station closure information isn't visible ...</td>\n",
              "      <td>service_updates</td>\n",
              "    </tr>\n",
              "    <tr>\n",
              "      <th>2</th>\n",
              "      <td>17</td>\n",
              "      <td>The crosswalk at Main and Central is shown in ...</td>\n",
              "      <td>navigation_issues</td>\n",
              "    </tr>\n",
              "    <tr>\n",
              "      <th>3</th>\n",
              "      <td>76</td>\n",
              "      <td>The ferry schedule information hasn't been upd...</td>\n",
              "      <td>service_updates</td>\n",
              "    </tr>\n",
              "    <tr>\n",
              "      <th>4</th>\n",
              "      <td>156</td>\n",
              "      <td>Every time I try to submit feedback through th...</td>\n",
              "      <td>app_experience</td>\n",
              "    </tr>\n",
              "  </tbody>\n",
              "</table>\n",
              "</div>\n",
              "    <div class=\"colab-df-buttons\">\n",
              "\n",
              "  <div class=\"colab-df-container\">\n",
              "    <button class=\"colab-df-convert\" onclick=\"convertToInteractive('df-598933f6-36f9-440b-9adf-fcf430d99fb3')\"\n",
              "            title=\"Convert this dataframe to an interactive table.\"\n",
              "            style=\"display:none;\">\n",
              "\n",
              "  <svg xmlns=\"http://www.w3.org/2000/svg\" height=\"24px\" viewBox=\"0 -960 960 960\">\n",
              "    <path d=\"M120-120v-720h720v720H120Zm60-500h600v-160H180v160Zm220 220h160v-160H400v160Zm0 220h160v-160H400v160ZM180-400h160v-160H180v160Zm440 0h160v-160H620v160ZM180-180h160v-160H180v160Zm440 0h160v-160H620v160Z\"/>\n",
              "  </svg>\n",
              "    </button>\n",
              "\n",
              "  <style>\n",
              "    .colab-df-container {\n",
              "      display:flex;\n",
              "      gap: 12px;\n",
              "    }\n",
              "\n",
              "    .colab-df-convert {\n",
              "      background-color: #E8F0FE;\n",
              "      border: none;\n",
              "      border-radius: 50%;\n",
              "      cursor: pointer;\n",
              "      display: none;\n",
              "      fill: #1967D2;\n",
              "      height: 32px;\n",
              "      padding: 0 0 0 0;\n",
              "      width: 32px;\n",
              "    }\n",
              "\n",
              "    .colab-df-convert:hover {\n",
              "      background-color: #E2EBFA;\n",
              "      box-shadow: 0px 1px 2px rgba(60, 64, 67, 0.3), 0px 1px 3px 1px rgba(60, 64, 67, 0.15);\n",
              "      fill: #174EA6;\n",
              "    }\n",
              "\n",
              "    .colab-df-buttons div {\n",
              "      margin-bottom: 4px;\n",
              "    }\n",
              "\n",
              "    [theme=dark] .colab-df-convert {\n",
              "      background-color: #3B4455;\n",
              "      fill: #D2E3FC;\n",
              "    }\n",
              "\n",
              "    [theme=dark] .colab-df-convert:hover {\n",
              "      background-color: #434B5C;\n",
              "      box-shadow: 0px 1px 3px 1px rgba(0, 0, 0, 0.15);\n",
              "      filter: drop-shadow(0px 1px 2px rgba(0, 0, 0, 0.3));\n",
              "      fill: #FFFFFF;\n",
              "    }\n",
              "  </style>\n",
              "\n",
              "    <script>\n",
              "      const buttonEl =\n",
              "        document.querySelector('#df-598933f6-36f9-440b-9adf-fcf430d99fb3 button.colab-df-convert');\n",
              "      buttonEl.style.display =\n",
              "        google.colab.kernel.accessAllowed ? 'block' : 'none';\n",
              "\n",
              "      async function convertToInteractive(key) {\n",
              "        const element = document.querySelector('#df-598933f6-36f9-440b-9adf-fcf430d99fb3');\n",
              "        const dataTable =\n",
              "          await google.colab.kernel.invokeFunction('convertToInteractive',\n",
              "                                                    [key], {});\n",
              "        if (!dataTable) return;\n",
              "\n",
              "        const docLinkHtml = 'Like what you see? Visit the ' +\n",
              "          '<a target=\"_blank\" href=https://colab.research.google.com/notebooks/data_table.ipynb>data table notebook</a>'\n",
              "          + ' to learn more about interactive tables.';\n",
              "        element.innerHTML = '';\n",
              "        dataTable['output_type'] = 'display_data';\n",
              "        await google.colab.output.renderOutput(dataTable, element);\n",
              "        const docLink = document.createElement('div');\n",
              "        docLink.innerHTML = docLinkHtml;\n",
              "        element.appendChild(docLink);\n",
              "      }\n",
              "    </script>\n",
              "  </div>\n",
              "\n",
              "\n",
              "    <div id=\"df-80257f49-6f04-4f73-ba98-05f7d9211fee\">\n",
              "      <button class=\"colab-df-quickchart\" onclick=\"quickchart('df-80257f49-6f04-4f73-ba98-05f7d9211fee')\"\n",
              "                title=\"Suggest charts\"\n",
              "                style=\"display:none;\">\n",
              "\n",
              "<svg xmlns=\"http://www.w3.org/2000/svg\" height=\"24px\"viewBox=\"0 0 24 24\"\n",
              "     width=\"24px\">\n",
              "    <g>\n",
              "        <path d=\"M19 3H5c-1.1 0-2 .9-2 2v14c0 1.1.9 2 2 2h14c1.1 0 2-.9 2-2V5c0-1.1-.9-2-2-2zM9 17H7v-7h2v7zm4 0h-2V7h2v10zm4 0h-2v-4h2v4z\"/>\n",
              "    </g>\n",
              "</svg>\n",
              "      </button>\n",
              "\n",
              "<style>\n",
              "  .colab-df-quickchart {\n",
              "      --bg-color: #E8F0FE;\n",
              "      --fill-color: #1967D2;\n",
              "      --hover-bg-color: #E2EBFA;\n",
              "      --hover-fill-color: #174EA6;\n",
              "      --disabled-fill-color: #AAA;\n",
              "      --disabled-bg-color: #DDD;\n",
              "  }\n",
              "\n",
              "  [theme=dark] .colab-df-quickchart {\n",
              "      --bg-color: #3B4455;\n",
              "      --fill-color: #D2E3FC;\n",
              "      --hover-bg-color: #434B5C;\n",
              "      --hover-fill-color: #FFFFFF;\n",
              "      --disabled-bg-color: #3B4455;\n",
              "      --disabled-fill-color: #666;\n",
              "  }\n",
              "\n",
              "  .colab-df-quickchart {\n",
              "    background-color: var(--bg-color);\n",
              "    border: none;\n",
              "    border-radius: 50%;\n",
              "    cursor: pointer;\n",
              "    display: none;\n",
              "    fill: var(--fill-color);\n",
              "    height: 32px;\n",
              "    padding: 0;\n",
              "    width: 32px;\n",
              "  }\n",
              "\n",
              "  .colab-df-quickchart:hover {\n",
              "    background-color: var(--hover-bg-color);\n",
              "    box-shadow: 0 1px 2px rgba(60, 64, 67, 0.3), 0 1px 3px 1px rgba(60, 64, 67, 0.15);\n",
              "    fill: var(--button-hover-fill-color);\n",
              "  }\n",
              "\n",
              "  .colab-df-quickchart-complete:disabled,\n",
              "  .colab-df-quickchart-complete:disabled:hover {\n",
              "    background-color: var(--disabled-bg-color);\n",
              "    fill: var(--disabled-fill-color);\n",
              "    box-shadow: none;\n",
              "  }\n",
              "\n",
              "  .colab-df-spinner {\n",
              "    border: 2px solid var(--fill-color);\n",
              "    border-color: transparent;\n",
              "    border-bottom-color: var(--fill-color);\n",
              "    animation:\n",
              "      spin 1s steps(1) infinite;\n",
              "  }\n",
              "\n",
              "  @keyframes spin {\n",
              "    0% {\n",
              "      border-color: transparent;\n",
              "      border-bottom-color: var(--fill-color);\n",
              "      border-left-color: var(--fill-color);\n",
              "    }\n",
              "    20% {\n",
              "      border-color: transparent;\n",
              "      border-left-color: var(--fill-color);\n",
              "      border-top-color: var(--fill-color);\n",
              "    }\n",
              "    30% {\n",
              "      border-color: transparent;\n",
              "      border-left-color: var(--fill-color);\n",
              "      border-top-color: var(--fill-color);\n",
              "      border-right-color: var(--fill-color);\n",
              "    }\n",
              "    40% {\n",
              "      border-color: transparent;\n",
              "      border-right-color: var(--fill-color);\n",
              "      border-top-color: var(--fill-color);\n",
              "    }\n",
              "    60% {\n",
              "      border-color: transparent;\n",
              "      border-right-color: var(--fill-color);\n",
              "    }\n",
              "    80% {\n",
              "      border-color: transparent;\n",
              "      border-right-color: var(--fill-color);\n",
              "      border-bottom-color: var(--fill-color);\n",
              "    }\n",
              "    90% {\n",
              "      border-color: transparent;\n",
              "      border-bottom-color: var(--fill-color);\n",
              "    }\n",
              "  }\n",
              "</style>\n",
              "\n",
              "      <script>\n",
              "        async function quickchart(key) {\n",
              "          const quickchartButtonEl =\n",
              "            document.querySelector('#' + key + ' button');\n",
              "          quickchartButtonEl.disabled = true;  // To prevent multiple clicks.\n",
              "          quickchartButtonEl.classList.add('colab-df-spinner');\n",
              "          try {\n",
              "            const charts = await google.colab.kernel.invokeFunction(\n",
              "                'suggestCharts', [key], {});\n",
              "          } catch (error) {\n",
              "            console.error('Error during call to suggestCharts:', error);\n",
              "          }\n",
              "          quickchartButtonEl.classList.remove('colab-df-spinner');\n",
              "          quickchartButtonEl.classList.add('colab-df-quickchart-complete');\n",
              "        }\n",
              "        (() => {\n",
              "          let quickchartButtonEl =\n",
              "            document.querySelector('#df-80257f49-6f04-4f73-ba98-05f7d9211fee button');\n",
              "          quickchartButtonEl.style.display =\n",
              "            google.colab.kernel.accessAllowed ? 'block' : 'none';\n",
              "        })();\n",
              "      </script>\n",
              "    </div>\n",
              "\n",
              "    </div>\n",
              "  </div>\n"
            ],
            "application/vnd.google.colaboratory.intrinsic+json": {
              "type": "dataframe",
              "variable_name": "feedback_data",
              "summary": "{\n  \"name\": \"feedback_data\",\n  \"rows\": 197,\n  \"fields\": [\n    {\n      \"column\": \"feedback_id\",\n      \"properties\": {\n        \"dtype\": \"number\",\n        \"std\": 57,\n        \"min\": 1,\n        \"max\": 197,\n        \"num_unique_values\": 197,\n        \"samples\": [\n          50,\n          24,\n          147\n        ],\n        \"semantic_type\": \"\",\n        \"description\": \"\"\n      }\n    },\n    {\n      \"column\": \"feedback_text\",\n      \"properties\": {\n        \"dtype\": \"string\",\n        \"num_unique_values\": 197,\n        \"samples\": [\n          \"The station exit you directed me to has been closed for renovation for months.\",\n          \"The bicycle repair stations aren't marked on your map.\",\n          \"The app isn't compatible with my screen reader, making it unusable for visually impaired people.\"\n        ],\n        \"semantic_type\": \"\",\n        \"description\": \"\"\n      }\n    },\n    {\n      \"column\": \"department\",\n      \"properties\": {\n        \"dtype\": \"category\",\n        \"num_unique_values\": 3,\n        \"samples\": [\n          \"app_experience\",\n          \"service_updates\",\n          \"navigation_issues\"\n        ],\n        \"semantic_type\": \"\",\n        \"description\": \"\"\n      }\n    }\n  ]\n}"
            }
          },
          "metadata": {},
          "execution_count": 40
        }
      ],
      "source": [
        "# Run this cell without changes\n",
        "# Load the feedback data\n",
        "feedback_data = pd.read_csv('urban_feedback.csv')\n",
        "\n",
        "# Display the first few rows\n",
        "feedback_data.head()"
      ]
    },
    {
      "cell_type": "code",
      "execution_count": null,
      "metadata": {
        "colab": {
          "base_uri": "https://localhost:8080/"
        },
        "id": "rRWN-ccoLbJ3",
        "outputId": "0f36ffd9-8b0d-44ef-a528-da37d486fdf5"
      },
      "outputs": [
        {
          "output_type": "stream",
          "name": "stdout",
          "text": [
            "Dataset shape: (197, 3)\n",
            "\n",
            "Column information:\n",
            "<class 'pandas.core.frame.DataFrame'>\n",
            "RangeIndex: 197 entries, 0 to 196\n",
            "Data columns (total 3 columns):\n",
            " #   Column         Non-Null Count  Dtype \n",
            "---  ------         --------------  ----- \n",
            " 0   feedback_id    197 non-null    int64 \n",
            " 1   feedback_text  197 non-null    object\n",
            " 2   department     197 non-null    object\n",
            "dtypes: int64(1), object(2)\n",
            "memory usage: 4.7+ KB\n",
            "\n",
            "Category distribution:\n",
            "department\n",
            "app_experience       66\n",
            "service_updates      66\n",
            "navigation_issues    65\n",
            "Name: count, dtype: int64\n"
          ]
        }
      ],
      "source": [
        "# Run this cell without changes\n",
        "# Basic information about the dataset\n",
        "print(f\"Dataset shape: {feedback_data.shape}\")\n",
        "print(\"\\nColumn information:\")\n",
        "feedback_data.info()\n",
        "print(f\"\\nCategory distribution:\\n{feedback_data['department'].value_counts()}\")"
      ]
    },
    {
      "cell_type": "code",
      "execution_count": null,
      "metadata": {
        "id": "96pfiHuSLbJ3"
      },
      "outputs": [],
      "source": [
        "# Replace None with your code\n",
        "# Calculate text length\n",
        "feedback_data['text_length'] = feedback_data['feedback_text'].str.split().str.len()\n",
        "\n",
        "# Calculate basic statistics of text length by department - hint - use groupby and .describe()\n",
        "text_length_stats = feedback_data.groupby('department')['text_length'].describe()"
      ]
    },
    {
      "cell_type": "code",
      "execution_count": null,
      "metadata": {
        "colab": {
          "base_uri": "https://localhost:8080/",
          "height": 709
        },
        "id": "QQitB5ldLbJ4",
        "outputId": "b7a27b11-9d1d-4b5b-89d4-4ab2222b6a65"
      },
      "outputs": [
        {
          "output_type": "stream",
          "name": "stdout",
          "text": [
            "Text length statistics by department:\n",
            "                   count       mean       std  min   25%   50%    75%   max\n",
            "department                                                                 \n",
            "app_experience      66.0  12.909091  2.146391  9.0  11.0  13.0  14.75  18.0\n",
            "navigation_issues   65.0  13.523077  2.681579  9.0  12.0  13.0  15.00  22.0\n",
            "service_updates     66.0  14.696970  2.817362  9.0  13.0  14.0  16.75  22.0\n"
          ]
        },
        {
          "output_type": "display_data",
          "data": {
            "text/plain": [
              "<Figure size 1200x600 with 1 Axes>"
            ],
            "image/png": "[encoded data removed]"
          },
          "metadata": {}
        }
      ],
      "source": [
        "# Run this cell without changes\n",
        "# Display the statistics\n",
        "print(\"Text length statistics by department:\")\n",
        "print(text_length_stats)\n",
        "\n",
        "# Visualize text length by department\n",
        "plt.figure(figsize=(12, 6))\n",
        "sns.boxplot(x='department', y='text_length', data=feedback_data, hue='department', legend=False)\n",
        "plt.title('Feedback Message Length by Department', fontsize=14)\n",
        "plt.xlabel('Department', fontsize=12)\n",
        "plt.ylabel('Text Length (characters)', fontsize=12)\n",
        "plt.xticks(rotation=45)\n",
        "plt.tight_layout()\n",
        "plt.show()"
      ]
    },
    {
      "cell_type": "markdown",
      "metadata": {
        "id": "3cOHIAZILbJ4"
      },
      "source": [
        "Let's also look at some example feedback messages from each department to better understand the data."
      ]
    },
    {
      "cell_type": "code",
      "execution_count": null,
      "metadata": {
        "colab": {
          "base_uri": "https://localhost:8080/"
        },
        "id": "AwzZsjT9LbJ4",
        "outputId": "4799d6de-23a4-4975-844d-a82741753d22"
      },
      "outputs": [
        {
          "output_type": "stream",
          "name": "stdout",
          "text": [
            "\n",
            "Examples of app_experience feedback:\n",
            "1. Why does the app need constant location access even when I'm not using it?\n",
            "2. Why does the app need to access my photos? This seems unnecessary.\n",
            "3. Why does the app need access to my contacts? This seems like a privacy issue.\n",
            "\n",
            "Examples of service_updates feedback:\n",
            "1. The transit system is on a modified schedule today due to the marathon, but this isn't reflected in your app.\n",
            "2. The weekend service changes aren't reflected in your route suggestions.\n",
            "3. The station closure information isn't visible until after I've planned a route through it.\n",
            "\n",
            "Examples of navigation_issues feedback:\n",
            "1. The waterfront path you suggested is underwater during high tide.\n",
            "2. The suggested route had me walking through a private shopping mall that closes at 9pm.\n",
            "3. The crosswalk at Main and Central is shown in the wrong location on your map.\n"
          ]
        }
      ],
      "source": [
        "# Run this cell without changes\n",
        "# Display examples from each department\n",
        "for dept in feedback_data['department'].unique():\n",
        "    print(f\"\\nExamples of {dept} feedback:\")\n",
        "    examples = feedback_data[feedback_data['department'] == dept]['feedback_text'].sample(3, random_state=42).values\n",
        "    for i, example in enumerate(examples, 1):\n",
        "        print(f\"{i}. {example}\")"
      ]
    },
    {
      "cell_type": "markdown",
      "metadata": {
        "id": "CVi2DCwdLbJ4"
      },
      "source": [
        "## Step 2: Text Preprocessing\n",
        "\n",
        "Now, let's create functions to preprocess the text data. This will involve cleaning the text and standardizing it for better feature extraction."
      ]
    },
    {
      "cell_type": "code",
      "execution_count": null,
      "metadata": {
        "id": "pnDAzIbKLbJ4"
      },
      "outputs": [],
      "source": [
        "# Replace None with your code\n",
        "import nltk\n",
        "from nltk.corpus import stopwords, wordnet\n",
        "from nltk.stem import WordNetLemmatizer\n",
        "from nltk.tokenize import word_tokenize\n",
        "from nltk import pos_tag # Import pos_tag\n",
        "\n",
        "def clean_text(text):\n",
        "    \"\"\"\n",
        "    Clean and preprocess text by:\n",
        "    - Converting to lowercase\n",
        "    - Removing punctuation and special characters\n",
        "    - Removing numbers\n",
        "\n",
        "    Parameters:\n",
        "    -----------\n",
        "    text : str\n",
        "        The text to clean\n",
        "\n",
        "    Returns:\n",
        "    --------\n",
        "    str\n",
        "        Cleaned text\n",
        "    \"\"\"\n",
        "    # Convert to lowercase\n",
        "    text = text.lower()\n",
        "\n",
        "    # Remove punctuation\n",
        "    text = re.sub(r'[^a-z\\s]', '', text)\n",
        "\n",
        "    return text\n",
        "\n",
        "# Helper function for lemmatization with POS tagging\n",
        "def get_wordnet_pos(treebank_tag):\n",
        "    \"\"\"\n",
        "    Convert NLTK POS tags to WordNet POS tags\n",
        "    \"\"\"\n",
        "    if treebank_tag.startswith('J'):\n",
        "        return wordnet.ADJ\n",
        "    elif treebank_tag.startswith('V'):\n",
        "        return wordnet.VERB\n",
        "    elif treebank_tag.startswith('N'):\n",
        "        return wordnet.NOUN\n",
        "    elif treebank_tag.startswith('R'):\n",
        "        return wordnet.ADV\n",
        "    else:\n",
        "        return wordnet.NOUN\n",
        "\n",
        "def tokenize_and_lemmatize(text):\n",
        "    \"\"\"\n",
        "    Tokenize text, remove stopwords, and lemmatize tokens.\n",
        "\n",
        "    Parameters:\n",
        "    -----------\n",
        "    text : str\n",
        "        The text to process\n",
        "\n",
        "    Returns:\n",
        "    --------\n",
        "    list\n",
        "        List of processed tokens\n",
        "    \"\"\"\n",
        "    # Initialize lemmatizer\n",
        "    lemmatizer = WordNetLemmatizer()\n",
        "\n",
        "    # Get stopwords\n",
        "    stop_words = set(stopwords.words('english'))\n",
        "\n",
        "    # Tokenize text\n",
        "    tokens = word_tokenize(text)\n",
        "\n",
        "    # Tag tokens with parts of speech\n",
        "    tokens_tagged = pos_tag(tokens)\n",
        "\n",
        "    # Convert to WordNet POS tags\n",
        "    pos_tokens = [(word, get_wordnet_pos(tag)) for (word, tag) in tokens_tagged]\n",
        "\n",
        "    # Remove stopwords and lemmatize\n",
        "    processed_tokens = [\n",
        "        lemmatizer.lemmatize(word, pos)\n",
        "        for (word, pos) in pos_tokens if word not in stop_words\n",
        "    ]\n",
        "\n",
        "    return processed_tokens\n",
        "\n",
        "def preprocess_text(text):\n",
        "    \"\"\"\n",
        "    Complete preprocessing pipeline: clean, tokenize, lemmatize, and rejoin.\n",
        "\n",
        "    Parameters:\n",
        "    -----------\n",
        "    text : str\n",
        "        The raw text to process\n",
        "\n",
        "    Returns:\n",
        "    --------\n",
        "    str\n",
        "        Fully processed text\n",
        "    \"\"\"\n",
        "    # Apply cleaning\n",
        "    cleaned_text = clean_text(text)\n",
        "\n",
        "    # Apply tokenization and lemmatization\n",
        "    processed_tokens = tokenize_and_lemmatize(cleaned_text)\n",
        "\n",
        "    # Join tokens back into single text string\n",
        "    processed_text = \" \".join(processed_tokens)\n",
        "\n",
        "    return processed_text"
      ]
    },
    {
      "cell_type": "code",
      "execution_count": null,
      "metadata": {
        "colab": {
          "base_uri": "https://localhost:8080/"
        },
        "id": "QREsZF4YLbJ5",
        "outputId": "94a800f8-564a-42d9-9425-1f3c3d1a3015"
      },
      "outputs": [
        {
          "output_type": "stream",
          "name": "stderr",
          "text": [
            "[nltk_data] Downloading package averaged_perceptron_tagger to\n",
            "[nltk_data]     /root/nltk_data...\n",
            "[nltk_data]   Package averaged_perceptron_tagger is already up-to-\n",
            "[nltk_data]       date!\n"
          ]
        },
        {
          "output_type": "stream",
          "name": "stdout",
          "text": [
            "Original text:\n",
            "Why does the app need access to my contacts? This seems like a privacy issue.\n",
            "\n",
            "Cleaned text:\n",
            "why does the app need access to my contacts this seems like a privacy issue\n",
            "\n",
            "Tokenized and lemmatized text:\n",
            "['app', 'need', 'access', 'contact', 'seem', 'like', 'privacy', 'issue']\n",
            "\n",
            "Fully preprocessed text:\n",
            "app need access contact seem like privacy issue\n"
          ]
        }
      ],
      "source": [
        "# Run this cell without changes\n",
        "# Test our preprocessing functions on a sample feedback message\n",
        "import nltk\n",
        "nltk.download('averaged_perceptron_tagger') # Add download here to ensure resource is available\n",
        "\n",
        "sample_text = feedback_data['feedback_text'].iloc[0]\n",
        "print(f\"Original text:\\n{sample_text}\")\n",
        "\n",
        "cleaned_text = clean_text(sample_text)\n",
        "print(f\"\\nCleaned text:\\n{cleaned_text}\")\n",
        "\n",
        "tokens = tokenize_and_lemmatize(cleaned_text)\n",
        "print(f\"\\nTokenized and lemmatized text:\\n{tokens}\")\n",
        "\n",
        "processed_text = preprocess_text(sample_text)\n",
        "print(f\"\\nFully preprocessed text:\\n{processed_text}\")"
      ]
    },
    {
      "cell_type": "markdown",
      "metadata": {
        "id": "RQ6nlM4nLbJ5"
      },
      "source": [
        "## Step 3: Feature Extraction\n",
        "\n",
        "Now, let's split our data into training and testing sets, and convert the text into numerical features using different vectorization approaches."
      ]
    },
    {
      "cell_type": "code",
      "execution_count": null,
      "metadata": {
        "id": "9oeqkt3cLbJ5"
      },
      "outputs": [],
      "source": [
        "# Replace None with your code\n",
        "# Split the data into training and testing sets (80% train, 20% test, random_state=42, stratify based on department)\n",
        "X_train, X_test, y_train, y_test = train_test_split(\n",
        "    feedback_data['feedback_text'], # Changed 'text' to 'feedback_text'\n",
        "    feedback_data['department'],\n",
        "    test_size=0.20,\n",
        "    random_state=42,\n",
        "    stratify=feedback_data['department']\n",
        ")\n",
        "\n",
        "# Create and fit a Bag of Words vectorizer (preprocessor=preprocess_text, max_features=50)\n",
        "count_vectorizer = CountVectorizer(preprocessor=preprocess_text, max_features=50)\n",
        "X_train_counts = count_vectorizer.fit_transform(X_train)\n",
        "\n",
        "# Create and fit a TF-IDF vectorizer (preprocessor=preprocess_text, max_features=50)\n",
        "tfidf_vectorizer = TfidfVectorizer(preprocessor=preprocess_text, max_features=50)\n",
        "X_train_tfidf = tfidf_vectorizer.fit_transform(X_train)"
      ]
    },
    {
      "cell_type": "code",
      "execution_count": null,
      "metadata": {
        "colab": {
          "base_uri": "https://localhost:8080/"
        },
        "id": "T4PB7BZALbJ5",
        "outputId": "4543a28d-b076-4d11-8ec1-e4cd21ee2020"
      },
      "outputs": [
        {
          "output_type": "stream",
          "name": "stdout",
          "text": [
            "Training set size: 157\n",
            "Testing set size: 40\n",
            "\n",
            "Class distribution in training set:\n",
            "department\n",
            "service_updates      53\n",
            "app_experience       52\n",
            "navigation_issues    52\n",
            "Name: count, dtype: int64\n",
            "\n",
            "Class distribution in testing set:\n",
            "department\n",
            "app_experience       14\n",
            "navigation_issues    13\n",
            "service_updates      13\n",
            "Name: count, dtype: int64\n",
            "Bag of Words vocabulary size: 50\n",
            "TF-IDF vocabulary size: 50\n",
            "\n",
            "Bag of Words feature matrix shape: (157, 50)\n",
            "TF-IDF feature matrix shape: (157, 50)\n",
            "\n",
            "Sample of feature names: ['accord' 'actually' 'alert' 'app' 'bus' 'cant' 'close' 'direction'\n",
            " 'doesnt' 'dont']\n"
          ]
        }
      ],
      "source": [
        "# Run this cell without changes\n",
        "# Confirm the split\n",
        "print(f\"Training set size: {len(X_train)}\")\n",
        "print(f\"Testing set size: {len(X_test)}\")\n",
        "print(f\"\\nClass distribution in training set:\\n{y_train.value_counts()}\")\n",
        "print(f\"\\nClass distribution in testing set:\\n{y_test.value_counts()}\")\n",
        "\n",
        "# Examine the vocabulary size for each vectorizer (should be 50)\n",
        "count_vocab_size = len(count_vectorizer.get_feature_names_out())\n",
        "tfidf_vocab_size = len(tfidf_vectorizer.get_feature_names_out())\n",
        "\n",
        "print(f\"Bag of Words vocabulary size: {count_vocab_size}\")\n",
        "print(f\"TF-IDF vocabulary size: {tfidf_vocab_size}\")\n",
        "\n",
        "# Examine the feature matrices\n",
        "print(f\"\\nBag of Words feature matrix shape: {X_train_counts.shape}\")\n",
        "print(f\"TF-IDF feature matrix shape: {X_train_tfidf.shape}\")\n",
        "\n",
        "# Show the first few feature names\n",
        "print(f\"\\nSample of feature names: {count_vectorizer.get_feature_names_out()[:10]}\")"
      ]
    },
    {
      "cell_type": "markdown",
      "metadata": {
        "id": "Mfw7PQJYLbJ5"
      },
      "source": [
        "## Step 4: Model Building with Naive Bayes\n",
        "\n",
        "Now, let's build Multinomial Naive Bayes classifiers using both feature representations."
      ]
    },
    {
      "cell_type": "code",
      "execution_count": null,
      "metadata": {
        "id": "WPPHuySdLbJ6"
      },
      "outputs": [],
      "source": [
        "# Replace None with your code\n",
        "# Create and train a Multinomial Naive Bayes model with Bag of Words features\n",
        "nb_bow = MultinomialNB()\n",
        "nb_bow.fit(X_train_counts, y_train)\n",
        "\n",
        "# Create and train a Multinomial Naive Bayes model with TF-IDF features\n",
        "nb_tfidf = MultinomialNB()\n",
        "nb_tfidf.fit(X_train_tfidf, y_train)\n",
        "\n",
        "# Function to display the most informative features for each class\n",
        "def display_top_features(classifier, vectorizer, class_labels, n=5):\n",
        "    \"\"\"\n",
        "    Display the top n most informative features for each class.\n",
        "\n",
        "    Parameters:\n",
        "    -----------\n",
        "    classifier : MultinomialNB\n",
        "        Trained Naive Bayes classifier\n",
        "    vectorizer : CountVectorizer or TfidfVectorizer\n",
        "        Fitted vectorizer used to transform the training data\n",
        "    class_labels : array-like\n",
        "        List of class labels\n",
        "    n : int, default=5\n",
        "        Number of top features to display per class\n",
        "\n",
        "    Returns:\n",
        "    --------\n",
        "    dict\n",
        "        Dictionary mapping class labels to top features\n",
        "    \"\"\"\n",
        "    # Get feature names\n",
        "    feature_names = vectorizer.get_feature_names_out()\n",
        "\n",
        "\n",
        "    top_features = {}\n",
        "\n",
        "    # For each class, find the features with highest log probability\n",
        "    for i, label in enumerate(class_labels):\n",
        "        # Sort indices by feature log probability\n",
        "        top_indices = np.argsort(classifier.feature_log_prob_[i])[-n:]\n",
        "\n",
        "        # Get the feature names\n",
        "        top_features[label] = [feature_names[j] for j in top_indices]\n",
        "\n",
        "        # Print the top features\n",
        "        print(f\"\\nTop {n} features for class '{label}':\")\n",
        "        for rank, feature in enumerate(top_features[label], 1):\n",
        "            print(f\"{rank}. {feature}\")\n",
        "\n",
        "    return top_features"
      ]
    },
    {
      "cell_type": "code",
      "execution_count": null,
      "metadata": {
        "colab": {
          "base_uri": "https://localhost:8080/"
        },
        "id": "RBXnByp3LbJ6",
        "outputId": "949d0838-fbf1-4d34-fadd-c37c58f4820d"
      },
      "outputs": [
        {
          "output_type": "stream",
          "name": "stdout",
          "text": [
            "Top features from Bag of Words model:\n",
            "\n",
            "Top 5 features for class 'app_experience':\n",
            "1. screen\n",
            "2. even\n",
            "3. cant\n",
            "4. update\n",
            "5. app\n",
            "\n",
            "Top 5 features for class 'navigation_issues':\n",
            "1. app\n",
            "2. station\n",
            "3. show\n",
            "4. doesnt\n",
            "5. map\n",
            "\n",
            "Top 5 features for class 'service_updates':\n",
            "1. minute\n",
            "2. service\n",
            "3. bus\n",
            "4. show\n",
            "5. app\n",
            "\n",
            "Top features from TF-IDF model:\n",
            "\n",
            "Top 5 features for class 'app_experience':\n",
            "1. use\n",
            "2. even\n",
            "3. update\n",
            "4. cant\n",
            "5. app\n",
            "\n",
            "Top 5 features for class 'navigation_issues':\n",
            "1. route\n",
            "2. station\n",
            "3. show\n",
            "4. doesnt\n",
            "5. map\n",
            "\n",
            "Top 5 features for class 'service_updates':\n",
            "1. schedule\n",
            "2. app\n",
            "3. show\n",
            "4. bus\n",
            "5. service\n"
          ]
        }
      ],
      "source": [
        "# Run this cell without changes\n",
        "# Display top features for the Bag of Words model\n",
        "print(\"Top features from Bag of Words model:\")\n",
        "bow_top_features = display_top_features(nb_bow, count_vectorizer, nb_bow.classes_)\n",
        "\n",
        "# Display top features for the TF-IDF model\n",
        "print(\"\\nTop features from TF-IDF model:\")\n",
        "tfidf_top_features = display_top_features(nb_tfidf, tfidf_vectorizer, nb_tfidf.classes_)"
      ]
    },
    {
      "cell_type": "markdown",
      "metadata": {
        "id": "MBP08MZKLbJ6"
      },
      "source": [
        "## Step 5: Model Evaluation and Comparison\n",
        "\n",
        "Let's evaluate our models on the test set and compare their performance."
      ]
    },
    {
      "cell_type": "code",
      "execution_count": null,
      "metadata": {
        "id": "Ohu6kaxvLbJ6"
      },
      "outputs": [],
      "source": [
        "# Replace None with your code\n",
        "# Transform the test data with both vectorizers\n",
        "X_test_counts = count_vectorizer.transform(X_test)\n",
        "X_test_tfidf = tfidf_vectorizer.transform(X_test)\n",
        "\n",
        "# Predict on the test data with both models\n",
        "y_pred_bow = nb_bow.predict(X_test_counts)\n",
        "y_pred_tfidf = nb_tfidf.predict(X_test_tfidf)\n",
        "\n",
        "# Function to evaluate a model and display results\n",
        "def evaluate_model(y_true, y_pred, model_name):\n",
        "    \"\"\"\n",
        "    Evaluate a model and display its performance metrics.\n",
        "\n",
        "    Parameters:\n",
        "    -----------\n",
        "    y_true : array-like\n",
        "        True class labels\n",
        "    y_pred : array-like\n",
        "        Predicted class labels\n",
        "    model_name : str\n",
        "        Name of the model being evaluated\n",
        "\n",
        "    Returns:\n",
        "    --------\n",
        "    float\n",
        "        Accuracy score\n",
        "    \"\"\"\n",
        "    # Calculate accuracy\n",
        "    accuracy = accuracy_score(y_true, y_pred)\n",
        "\n",
        "    # Print evaluation results\n",
        "    print(f\"Evaluation for {model_name}:\")\n",
        "    print(f\"Accuracy: {accuracy:.4f}\")\n",
        "\n",
        "    # Generate and print classification report\n",
        "    report = classification_report(y_true, y_pred, digits=4)\n",
        "    print(f\"\\nClassification Report:\\n{report}\")\n",
        "\n",
        "    # Return the accuracy\n",
        "    return accuracy"
      ]
    },
    {
      "cell_type": "code",
      "execution_count": null,
      "metadata": {
        "colab": {
          "base_uri": "https://localhost:8080/",
          "height": 1000
        },
        "id": "uop76PA4LbJ6",
        "outputId": "c94d4676-2a51-4365-b198-7d2127b310bf"
      },
      "outputs": [
        {
          "output_type": "stream",
          "name": "stdout",
          "text": [
            "Evaluation for Bag of Words + Naive Bayes:\n",
            "Accuracy: 0.7000\n",
            "\n",
            "Classification Report:\n",
            "                   precision    recall  f1-score   support\n",
            "\n",
            "   app_experience     0.9091    0.7143    0.8000        14\n",
            "navigation_issues     0.6923    0.6923    0.6923        13\n",
            "  service_updates     0.5625    0.6923    0.6207        13\n",
            "\n",
            "         accuracy                         0.7000        40\n",
            "        macro avg     0.7213    0.6996    0.7043        40\n",
            "     weighted avg     0.7260    0.7000    0.7067        40\n",
            "\n",
            "Evaluation for TF-IDF + Naive Bayes:\n",
            "Accuracy: 0.7250\n",
            "\n",
            "Classification Report:\n",
            "                   precision    recall  f1-score   support\n",
            "\n",
            "   app_experience     0.9091    0.7143    0.8000        14\n",
            "navigation_issues     0.7500    0.6923    0.7200        13\n",
            "  service_updates     0.5882    0.7692    0.6667        13\n",
            "\n",
            "         accuracy                         0.7250        40\n",
            "        macro avg     0.7491    0.7253    0.7289        40\n",
            "     weighted avg     0.7531    0.7250    0.7307        40\n",
            "\n"
          ]
        },
        {
          "output_type": "display_data",
          "data": {
            "text/plain": [
              "<Figure size 1600x600 with 4 Axes>"
            ],
            "image/png": "[encoded data removed]"
          },
          "metadata": {}
        },
        {
          "output_type": "display_data",
          "data": {
            "text/plain": [
              "<Figure size 1000x600 with 1 Axes>"
            ],
            "image/png": "[encoded data removed]"
          },
          "metadata": {}
        }
      ],
      "source": [
        "# Run this cell without changes\n",
        "# Evaluate both models\n",
        "bow_accuracy = evaluate_model(y_test, y_pred_bow, \"Bag of Words + Naive Bayes\")\n",
        "tfidf_accuracy = evaluate_model(y_test, y_pred_tfidf, \"TF-IDF + Naive Bayes\")\n",
        "\n",
        "# Create confusion matrices for both models\n",
        "fig, axes = plt.subplots(1, 2, figsize=(16, 6))\n",
        "\n",
        "# Confusion matrix for Bag of Words model\n",
        "cm_bow = confusion_matrix(y_test, y_pred_bow)\n",
        "sns.heatmap(cm_bow, annot=True, fmt='d', cmap='Blues', xticklabels=nb_bow.classes_,\n",
        "            yticklabels=nb_bow.classes_, ax=axes[0])\n",
        "axes[0].set_title('Confusion Matrix - Bag of Words Model', fontsize=12)\n",
        "axes[0].set_xlabel('Predicted Label', fontsize=10)\n",
        "axes[0].set_ylabel('True Label', fontsize=10)\n",
        "\n",
        "# Confusion matrix for TF-IDF model\n",
        "cm_tfidf = confusion_matrix(y_test, y_pred_tfidf)\n",
        "sns.heatmap(cm_tfidf, annot=True, fmt='d', cmap='Blues', xticklabels=nb_tfidf.classes_,\n",
        "            yticklabels=nb_tfidf.classes_, ax=axes[1])\n",
        "axes[1].set_title('Confusion Matrix - TF-IDF Model', fontsize=12)\n",
        "axes[1].set_xlabel('Predicted Label', fontsize=10)\n",
        "axes[1].set_ylabel('True Label', fontsize=10)\n",
        "\n",
        "plt.tight_layout()\n",
        "plt.show()\n",
        "\n",
        "# Compare model accuracies\n",
        "models = ['Bag of Words + Naive Bayes', 'TF-IDF + Naive Bayes']\n",
        "accuracies = [bow_accuracy, tfidf_accuracy]\n",
        "\n",
        "plt.figure(figsize=(10, 6))\n",
        "sns.barplot(x=models, y=accuracies)\n",
        "plt.title('Model Accuracy Comparison', fontsize=14)\n",
        "plt.xlabel('Model', fontsize=12)\n",
        "plt.ylabel('Accuracy', fontsize=12)\n",
        "plt.ylim(0, 1)\n",
        "plt.xticks(rotation=15)\n",
        "\n",
        "# Add accuracy labels to the bars\n",
        "for i, acc in enumerate(accuracies):\n",
        "    plt.text(i, acc + 0.01, f'{acc:.4f}', ha='center', va='bottom', fontsize=12)\n",
        "\n",
        "plt.tight_layout()\n",
        "plt.show()"
      ]
    },
    {
      "cell_type": "markdown",
      "metadata": {
        "id": "DLCmmTyLLbJ6"
      },
      "source": [
        "## Step 6: Model Improvement\n",
        "\n",
        "Let's try to improve the better model (TF-IDF) by tuning the hyperparameters and refining the feature extraction."
      ]
    },
    {
      "cell_type": "code",
      "execution_count": null,
      "metadata": {
        "colab": {
          "base_uri": "https://localhost:8080/"
        },
        "id": "vkfu4XIsLbJ7",
        "outputId": "3bfdc7da-b9e6-433f-a6ea-1747982f08c0"
      },
      "outputs": [
        {
          "output_type": "stream",
          "name": "stdout",
          "text": [
            "Fitting 3 folds for each of 144 candidates, totalling 432 fits\n"
          ]
        }
      ],
      "source": [
        "# Replace None with your code\n",
        "# Let's perform grid search to tune both vectorizer and model parameters together\n",
        "\n",
        "# Preprocess the training and testing data\n",
        "X_train_processed = X_train.apply(preprocess_text)\n",
        "X_test_processed = X_test.apply(preprocess_text)\n",
        "\n",
        "\n",
        "# Create a pipeline that combines vectorization and classification - name the steps 'vectorizer' and 'classifier' respectively\n",
        "text_clf = Pipeline([\n",
        "    ('vectorizer', TfidfVectorizer()), # Remove preprocessor here\n",
        "    ('classifier', MultinomialNB())\n",
        "])\n",
        "\n",
        "\n",
        "# Define parameter grid to search\n",
        "# This includes parameters for both the vectorizer and the classifier\n",
        "param_grid = {\n",
        "    # Vectorizer type and parameters\n",
        "    'vectorizer': [CountVectorizer(), TfidfVectorizer()], # Remove preprocessor here\n",
        "\n",
        "    # Parameters for CountVectorizer and TfidfVectorizer\n",
        "    'vectorizer__max_features': [50, 100],\n",
        "    'vectorizer__min_df': [1, 2, 3],\n",
        "    'vectorizer__max_df': [0.85, 0.9, 0.95],\n",
        "    'vectorizer__ngram_range': [(1, 1), (1, 2)],\n",
        "\n",
        "    # Classifier parameters\n",
        "    'classifier__alpha': [0.5, 1.0]\n",
        "}\n",
        "\n",
        "# Create a grid search object\n",
        "grid_search = GridSearchCV(\n",
        "    estimator=text_clf,\n",
        "    param_grid=param_grid,\n",
        "    cv=3,                 # 3-fold cross-validation\n",
        "    n_jobs=-1,            # use all CPU cores\n",
        "    verbose=2\n",
        ")\n",
        "\n",
        "# Fit the grid search to the training data (using preprocessed data)\n",
        "grid_search.fit(X_train_processed, y_train)\n",
        "\n",
        "# Use the best estimator to make predictions on the test set (using preprocessed data)\n",
        "best_model = grid_search.best_estimator_\n",
        "y_pred_grid = best_model.predict(X_test_processed)"
      ]
    },
    {
      "cell_type": "code",
      "execution_count": null,
      "metadata": {
        "colab": {
          "base_uri": "https://localhost:8080/"
        },
        "id": "puRZhnY5LbJ7",
        "outputId": "aa42b9e2-89fe-4d9a-d869-1253b4020034"
      },
      "outputs": [
        {
          "output_type": "stream",
          "name": "stdout",
          "text": [
            "Best Parameters:\n",
            "{'classifier__alpha': 1.0, 'vectorizer': CountVectorizer(), 'vectorizer__max_df': 0.85, 'vectorizer__max_features': 100, 'vectorizer__min_df': 2, 'vectorizer__ngram_range': (1, 1)}\n",
            "\n",
            "Best Cross-Validation Score: 0.8154\n"
          ]
        }
      ],
      "source": [
        "# Run this cell without changes\n",
        "# Evaluate the best model from grid search\n",
        "# Print the best parameters and score\n",
        "print(\"Best Parameters:\")\n",
        "print(grid_search.best_params_)\n",
        "print(f\"\\nBest Cross-Validation Score: {grid_search.best_score_:.4f}\")"
      ]
    },
    {
      "cell_type": "code",
      "execution_count": null,
      "metadata": {
        "colab": {
          "base_uri": "https://localhost:8080/"
        },
        "id": "-zeH-pUwLbJ7",
        "outputId": "6199e7e7-588a-4780-d2c2-33d821859489"
      },
      "outputs": [
        {
          "output_type": "stream",
          "name": "stdout",
          "text": [
            "Evaluation for Improved TF-IDF + Naive Bayes:\n",
            "Accuracy: 0.8000\n",
            "\n",
            "Classification Report:\n",
            "                   precision    recall  f1-score   support\n",
            "\n",
            "   app_experience     0.9231    0.8571    0.8889        14\n",
            "navigation_issues     0.7692    0.7692    0.7692        13\n",
            "  service_updates     0.7143    0.7692    0.7407        13\n",
            "\n",
            "         accuracy                         0.8000        40\n",
            "        macro avg     0.8022    0.7985    0.7996        40\n",
            "     weighted avg     0.8052    0.8000    0.8019        40\n",
            "\n"
          ]
        }
      ],
      "source": [
        "# Run this cell without changes\n",
        "# Evaluate the improved model\n",
        "improved_tfidf_accuracy = evaluate_model(y_test, y_pred_grid, \"Improved TF-IDF + Naive Bayes\")"
      ]
    },
    {
      "cell_type": "markdown",
      "metadata": {
        "id": "lgxr29SILbJ7"
      },
      "source": [
        "## Step 7: Building a Prediction Function\n",
        "\n",
        "Finally, let's create a function that can take new feedback messages and classify them into the appropriate department. This would be the function that UrbanTech could integrate into their feedback processing system."
      ]
    },
    {
      "cell_type": "code",
      "execution_count": null,
      "metadata": {
        "id": "UKSMHC7QLbJ7"
      },
      "outputs": [],
      "source": [
        "# Replace None with your code\n",
        "def classify_feedback(feedback_text):\n",
        "    \"\"\"\n",
        "    Classify a new feedback message into the appropriate department.\n",
        "\n",
        "    Parameters:\n",
        "    -----------\n",
        "    feedback_text : str\n",
        "        The raw feedback message to classify\n",
        "    model : classifier\n",
        "        Trained classification model\n",
        "    vectorizer : vectorizer\n",
        "        Fitted vectorizer to transform the text\n",
        "\n",
        "    Returns:\n",
        "    --------\n",
        "    dict\n",
        "        Dictionary containing classification results\n",
        "    \"\"\"\n",
        "    # Predict the department\n",
        "    department = best_model.predict([feedback_text])[0]\n",
        "\n",
        "    # Get prediction probabilities\n",
        "    probabilities = best_model.predict_proba([feedback_text])\n",
        "\n",
        "    # Find the confidence (probability of the predicted class)\n",
        "    confidence = np.max(probabilities)\n",
        "\n",
        "    # Create and return the result dictionary\n",
        "    result = {\n",
        "        'feedback_text': feedback_text,\n",
        "        'department': department,\n",
        "        'confidence': confidence,\n",
        "        'all_probabilities': dict(zip(best_model.classes_, probabilities[0]))\n",
        "    }\n",
        "\n",
        "    return result"
      ]
    },
    {
      "cell_type": "code",
      "execution_count": null,
      "metadata": {
        "colab": {
          "base_uri": "https://localhost:8080/"
        },
        "id": "wqIqCralLbJ7",
        "outputId": "e21a3202-a123-42a2-e20d-6bfe3bd0386c"
      },
      "outputs": [
        {
          "output_type": "stream",
          "name": "stdout",
          "text": [
            "Feedback: The app crashed when I tried to view the bus schedule.\n",
            "Predicted Department: service_updates\n",
            "Confidence: 0.9509\n",
            "All department probabilities:\n",
            "  app_experience: 0.0197\n",
            "  navigation_issues: 0.0294\n",
            "  service_updates: 0.9509\n",
            "Feedback: Your subway arrival times were completely wrong! The train was 10 minutes late.\n",
            "Predicted Department: service_updates\n",
            "Confidence: 0.8558\n",
            "All department probabilities:\n",
            "  app_experience: 0.0616\n",
            "  navigation_issues: 0.0826\n",
            "  service_updates: 0.8558\n",
            "Feedback: I love the new route planning feature, but the app is very slow to load maps.\n",
            "Predicted Department: app_experience\n",
            "Confidence: 0.7355\n",
            "All department probabilities:\n",
            "  app_experience: 0.7355\n",
            "  navigation_issues: 0.2449\n",
            "  service_updates: 0.0196\n",
            "Feedback: Can you add more bike routes to the navigation options?\n",
            "Predicted Department: navigation_issues\n",
            "Confidence: 0.6831\n",
            "All department probabilities:\n",
            "  app_experience: 0.1750\n",
            "  navigation_issues: 0.6831\n",
            "  service_updates: 0.1418\n",
            "Feedback: The bus schedule says the next bus is in 5 minutes, but it's already been 20 minutes and no bus.\n",
            "Predicted Department: service_updates\n",
            "Confidence: 0.9954\n",
            "All department probabilities:\n",
            "  app_experience: 0.0001\n",
            "  navigation_issues: 0.0045\n",
            "  service_updates: 0.9954\n"
          ]
        }
      ],
      "source": [
        "# Run this cell without changes\n",
        "# Test the classification function with new feedback messages\n",
        "new_feedback = [\n",
        "    \"The app crashed when I tried to view the bus schedule.\",\n",
        "    \"Your subway arrival times were completely wrong! The train was 10 minutes late.\",\n",
        "    \"I love the new route planning feature, but the app is very slow to load maps.\",\n",
        "    \"Can you add more bike routes to the navigation options?\",\n",
        "    \"The bus schedule says the next bus is in 5 minutes, but it's already been 20 minutes and no bus.\"]\n",
        "\n",
        "for feedback in new_feedback:\n",
        "    result = classify_feedback(feedback)\n",
        "\n",
        "    print(f'Feedback: {result['feedback_text']}')\n",
        "    print(f'Predicted Department: {result['department']}')\n",
        "    print(f'Confidence: {result['confidence']:.4f}')\n",
        "\n",
        "    # Show all class probabilities\n",
        "    print('All department probabilities:')\n",
        "    for dept, prob in result['all_probabilities'].items():\n",
        "        print(f'  {dept}: {prob:.4f}')"
      ]
    },
    {
      "cell_type": "markdown",
      "metadata": {
        "id": "CNI1o5fxLbJ7"
      },
      "source": [
        "## Conclusion\n",
        "\n",
        "Congratulations! You've successfully built a text classification system that can automatically categorize user feedback messages for UrbanTech's transit app. In this lab, you've learned how to:\n",
        "\n",
        "1. Preprocess text data to make it suitable for machine learning\n",
        "2. Extract features using different vectorization techniques (Bag of Words and TF-IDF)\n",
        "3. Build and train Multinomial Naive Bayes classifiers for text classification\n",
        "4. Evaluate and compare model performance using appropriate metrics\n",
        "5. Tune hyperparameters to improve model performance\n",
        "6. Create a practical classification function that could be integrated into a production system\n",
        "7. Package everything into a pipeline for easier deployment\n",
        "\n",
        "The classification system you've built could significantly improve UrbanTech's ability to handle user feedback efficiently, ensuring that issues are routed to the correct department for prompt resolution. This would enhance the user experience by enabling quicker response times and more consistent handling of feedback.\n",
        "\n",
        "Remember that in a real-world scenario, you would need to periodically retrain your model with new data to ensure it remains accurate as user feedback patterns change over time."
      ]
    }
  ],
  "metadata": {
    "kernelspec": {
      "display_name": "Cohort_Env",
      "language": "python",
      "name": "python3"
    },
    "language_info": {
      "codemirror_mode": {
        "name": "ipython",
        "version": 3
      },
      "file_extension": ".py",
      "mimetype": "text/x-python",
      "name": "python",
      "nbconvert_exporter": "python",
      "pygments_lexer": "ipython3",
      "version": "3.12.5"
    },
    "colab": {
      "provenance": []
    }
  },
  "nbformat": 4,
  "nbformat_minor": 0
}